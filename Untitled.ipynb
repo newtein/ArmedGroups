{
 "cells": [
  {
   "cell_type": "code",
   "execution_count": 11,
   "metadata": {},
   "outputs": [
    {
     "name": "stdout",
     "output_type": "stream",
     "text": [
      "Enter password: Thisisme@16\n",
      "Delhi, Central Delhi, Sarvodhya V Mori G NO.1 SITE 4, from: 09:00:00, to: 17:00:00, fee_type: Free\n",
      "04-05-2021, capacity: 2, age limit: 18, vaccine: , slots: ['09:00AM-11:00AM', '11:00AM-01:00PM', '01:00PM-03:00PM', '03:00PM-05:00PM']\n",
      "Delhi, East Delhi, MAX HOSPITAL-1, from: 09:00:00, to: 17:00:00, fee_type: Paid\n",
      "04-05-2021, capacity: 1, age limit: 18, vaccine: COVISHIELD, slots: ['09:00AM-11:00AM', '11:00AM-01:00PM', '01:00PM-03:00PM', '03:00PM-05:00PM']\n",
      "Delhi, South East Delhi, SKV/SBV SANGAM VIHAR SITE-2, from: 09:00:00, to: 17:00:00, fee_type: Free\n",
      "04-05-2021, capacity: 1, age limit: 18, vaccine: , slots: ['09:00AM-11:00AM', '11:00AM-01:00PM', '01:00PM-03:00PM', '03:00PM-05:00PM']\n",
      "Delhi, South West Delhi, SKV DEENDARPUR 3, from: 09:00:00, to: 17:00:00, fee_type: Free\n",
      "04-05-2021, capacity: 3, age limit: 18, vaccine: , slots: ['09:00AM-11:00AM', '11:00AM-01:00PM', '01:00PM-03:00PM', '03:00PM-05:00PM']\n",
      "Delhi, West Delhi, Govt Boys S S S 1617018 Site 2, from: 09:00:00, to: 17:00:00, fee_type: Free\n",
      "04-05-2021, capacity: 1, age limit: 18, vaccine: , slots: ['09:00AM-11:00AM', '11:00AM-01:00PM', '01:00PM-03:00PM', '03:00PM-05:00PM']\n",
      "5 sessions available.\n"
     ]
    },
    {
     "ename": "SMTPAuthenticationError",
     "evalue": "(535, b'5.7.8 Username and Password not accepted. Learn more at\\n5.7.8  https://support.google.com/mail/?p=BadCredentials z16sm14212351pjq.42 - gsmtp')",
     "output_type": "error",
     "traceback": [
      "\u001b[1;31m---------------------------------------------------------------------------\u001b[0m",
      "\u001b[1;31mSMTPAuthenticationError\u001b[0m                   Traceback (most recent call last)",
      "\u001b[1;32m<ipython-input-11-a7a4b03114f6>\u001b[0m in \u001b[0;36m<module>\u001b[1;34m\u001b[0m\n\u001b[0;32m     85\u001b[0m \u001b[1;32mif\u001b[0m \u001b[0m__name__\u001b[0m \u001b[1;33m==\u001b[0m \u001b[1;34m'__main__'\u001b[0m\u001b[1;33m:\u001b[0m\u001b[1;33m\u001b[0m\u001b[1;33m\u001b[0m\u001b[0m\n\u001b[0;32m     86\u001b[0m     \u001b[1;32mwhile\u001b[0m\u001b[1;33m(\u001b[0m\u001b[1;36m1\u001b[0m\u001b[1;33m)\u001b[0m\u001b[1;33m:\u001b[0m\u001b[1;33m\u001b[0m\u001b[1;33m\u001b[0m\u001b[0m\n\u001b[1;32m---> 87\u001b[1;33m         \u001b[0mfun\u001b[0m\u001b[1;33m(\u001b[0m\u001b[0mpin_code\u001b[0m\u001b[1;33m,\u001b[0m \u001b[0mdistrict_ids\u001b[0m\u001b[1;33m,\u001b[0m \u001b[0mdate\u001b[0m\u001b[1;33m)\u001b[0m\u001b[1;33m\u001b[0m\u001b[1;33m\u001b[0m\u001b[0m\n\u001b[0m\u001b[0;32m     88\u001b[0m         \u001b[0mtime\u001b[0m\u001b[1;33m.\u001b[0m\u001b[0msleep\u001b[0m\u001b[1;33m(\u001b[0m\u001b[0mtimedelay\u001b[0m\u001b[1;33m)\u001b[0m\u001b[1;33m\u001b[0m\u001b[1;33m\u001b[0m\u001b[0m\n",
      "\u001b[1;32m<ipython-input-11-a7a4b03114f6>\u001b[0m in \u001b[0;36mfun\u001b[1;34m(pincode, district_ids, date)\u001b[0m\n\u001b[0;32m     78\u001b[0m             \u001b[0mcontext\u001b[0m \u001b[1;33m=\u001b[0m \u001b[0mssl\u001b[0m\u001b[1;33m.\u001b[0m\u001b[0mcreate_default_context\u001b[0m\u001b[1;33m(\u001b[0m\u001b[1;33m)\u001b[0m\u001b[1;33m\u001b[0m\u001b[1;33m\u001b[0m\u001b[0m\n\u001b[0;32m     79\u001b[0m             \u001b[1;32mwith\u001b[0m \u001b[0msmtplib\u001b[0m\u001b[1;33m.\u001b[0m\u001b[0mSMTP_SSL\u001b[0m\u001b[1;33m(\u001b[0m\u001b[0msmtp_server\u001b[0m\u001b[1;33m,\u001b[0m \u001b[0mport\u001b[0m\u001b[1;33m,\u001b[0m \u001b[0mcontext\u001b[0m\u001b[1;33m=\u001b[0m\u001b[0mcontext\u001b[0m\u001b[1;33m)\u001b[0m \u001b[1;32mas\u001b[0m \u001b[0mserver\u001b[0m\u001b[1;33m:\u001b[0m\u001b[1;33m\u001b[0m\u001b[1;33m\u001b[0m\u001b[0m\n\u001b[1;32m---> 80\u001b[1;33m                 \u001b[0mserver\u001b[0m\u001b[1;33m.\u001b[0m\u001b[0mlogin\u001b[0m\u001b[1;33m(\u001b[0m\u001b[0msender_email\u001b[0m\u001b[1;33m,\u001b[0m \u001b[0mpassword\u001b[0m\u001b[1;33m)\u001b[0m\u001b[1;33m\u001b[0m\u001b[1;33m\u001b[0m\u001b[0m\n\u001b[0m\u001b[0;32m     81\u001b[0m                 \u001b[0mserver\u001b[0m\u001b[1;33m.\u001b[0m\u001b[0msendmail\u001b[0m\u001b[1;33m(\u001b[0m\u001b[0msender_email\u001b[0m\u001b[1;33m,\u001b[0m \u001b[0mreceiver_email\u001b[0m\u001b[1;33m,\u001b[0m \u001b[0mmessage\u001b[0m\u001b[1;33m)\u001b[0m\u001b[1;33m\u001b[0m\u001b[1;33m\u001b[0m\u001b[0m\n\u001b[0;32m     82\u001b[0m     \u001b[1;32mexcept\u001b[0m \u001b[0mrequests\u001b[0m\u001b[1;33m.\u001b[0m\u001b[0mexceptions\u001b[0m\u001b[1;33m.\u001b[0m\u001b[0mHTTPError\u001b[0m \u001b[1;32mas\u001b[0m \u001b[0merr\u001b[0m\u001b[1;33m:\u001b[0m\u001b[1;33m\u001b[0m\u001b[1;33m\u001b[0m\u001b[0m\n",
      "\u001b[1;32mc:\\users\\administrator\\appdata\\local\\programs\\python\\python37\\lib\\smtplib.py\u001b[0m in \u001b[0;36mlogin\u001b[1;34m(self, user, password, initial_response_ok)\u001b[0m\n\u001b[0;32m    728\u001b[0m \u001b[1;33m\u001b[0m\u001b[0m\n\u001b[0;32m    729\u001b[0m         \u001b[1;31m# We could not login successfully.  Return result of last attempt.\u001b[0m\u001b[1;33m\u001b[0m\u001b[1;33m\u001b[0m\u001b[1;33m\u001b[0m\u001b[0m\n\u001b[1;32m--> 730\u001b[1;33m         \u001b[1;32mraise\u001b[0m \u001b[0mlast_exception\u001b[0m\u001b[1;33m\u001b[0m\u001b[1;33m\u001b[0m\u001b[0m\n\u001b[0m\u001b[0;32m    731\u001b[0m \u001b[1;33m\u001b[0m\u001b[0m\n\u001b[0;32m    732\u001b[0m     \u001b[1;32mdef\u001b[0m \u001b[0mstarttls\u001b[0m\u001b[1;33m(\u001b[0m\u001b[0mself\u001b[0m\u001b[1;33m,\u001b[0m \u001b[0mkeyfile\u001b[0m\u001b[1;33m=\u001b[0m\u001b[1;32mNone\u001b[0m\u001b[1;33m,\u001b[0m \u001b[0mcertfile\u001b[0m\u001b[1;33m=\u001b[0m\u001b[1;32mNone\u001b[0m\u001b[1;33m,\u001b[0m \u001b[0mcontext\u001b[0m\u001b[1;33m=\u001b[0m\u001b[1;32mNone\u001b[0m\u001b[1;33m)\u001b[0m\u001b[1;33m:\u001b[0m\u001b[1;33m\u001b[0m\u001b[1;33m\u001b[0m\u001b[0m\n",
      "\u001b[1;32mc:\\users\\administrator\\appdata\\local\\programs\\python\\python37\\lib\\smtplib.py\u001b[0m in \u001b[0;36mlogin\u001b[1;34m(self, user, password, initial_response_ok)\u001b[0m\n\u001b[0;32m    719\u001b[0m                 (code, resp) = self.auth(\n\u001b[0;32m    720\u001b[0m                     \u001b[0mauthmethod\u001b[0m\u001b[1;33m,\u001b[0m \u001b[0mgetattr\u001b[0m\u001b[1;33m(\u001b[0m\u001b[0mself\u001b[0m\u001b[1;33m,\u001b[0m \u001b[0mmethod_name\u001b[0m\u001b[1;33m)\u001b[0m\u001b[1;33m,\u001b[0m\u001b[1;33m\u001b[0m\u001b[1;33m\u001b[0m\u001b[0m\n\u001b[1;32m--> 721\u001b[1;33m                     initial_response_ok=initial_response_ok)\n\u001b[0m\u001b[0;32m    722\u001b[0m                 \u001b[1;31m# 235 == 'Authentication successful'\u001b[0m\u001b[1;33m\u001b[0m\u001b[1;33m\u001b[0m\u001b[1;33m\u001b[0m\u001b[0m\n\u001b[0;32m    723\u001b[0m                 \u001b[1;31m# 503 == 'Error: already authenticated'\u001b[0m\u001b[1;33m\u001b[0m\u001b[1;33m\u001b[0m\u001b[1;33m\u001b[0m\u001b[0m\n",
      "\u001b[1;32mc:\\users\\administrator\\appdata\\local\\programs\\python\\python37\\lib\\smtplib.py\u001b[0m in \u001b[0;36mauth\u001b[1;34m(self, mechanism, authobject, initial_response_ok)\u001b[0m\n\u001b[0;32m    640\u001b[0m         \u001b[1;32mif\u001b[0m \u001b[0mcode\u001b[0m \u001b[1;32min\u001b[0m \u001b[1;33m(\u001b[0m\u001b[1;36m235\u001b[0m\u001b[1;33m,\u001b[0m \u001b[1;36m503\u001b[0m\u001b[1;33m)\u001b[0m\u001b[1;33m:\u001b[0m\u001b[1;33m\u001b[0m\u001b[1;33m\u001b[0m\u001b[0m\n\u001b[0;32m    641\u001b[0m             \u001b[1;32mreturn\u001b[0m \u001b[1;33m(\u001b[0m\u001b[0mcode\u001b[0m\u001b[1;33m,\u001b[0m \u001b[0mresp\u001b[0m\u001b[1;33m)\u001b[0m\u001b[1;33m\u001b[0m\u001b[1;33m\u001b[0m\u001b[0m\n\u001b[1;32m--> 642\u001b[1;33m         \u001b[1;32mraise\u001b[0m \u001b[0mSMTPAuthenticationError\u001b[0m\u001b[1;33m(\u001b[0m\u001b[0mcode\u001b[0m\u001b[1;33m,\u001b[0m \u001b[0mresp\u001b[0m\u001b[1;33m)\u001b[0m\u001b[1;33m\u001b[0m\u001b[1;33m\u001b[0m\u001b[0m\n\u001b[0m\u001b[0;32m    643\u001b[0m \u001b[1;33m\u001b[0m\u001b[0m\n\u001b[0;32m    644\u001b[0m     \u001b[1;32mdef\u001b[0m \u001b[0mauth_cram_md5\u001b[0m\u001b[1;33m(\u001b[0m\u001b[0mself\u001b[0m\u001b[1;33m,\u001b[0m \u001b[0mchallenge\u001b[0m\u001b[1;33m=\u001b[0m\u001b[1;32mNone\u001b[0m\u001b[1;33m)\u001b[0m\u001b[1;33m:\u001b[0m\u001b[1;33m\u001b[0m\u001b[1;33m\u001b[0m\u001b[0m\n",
      "\u001b[1;31mSMTPAuthenticationError\u001b[0m: (535, b'5.7.8 Username and Password not accepted. Learn more at\\n5.7.8  https://support.google.com/mail/?p=BadCredentials z16sm14212351pjq.42 - gsmtp')"
     ]
    }
   ],
   "source": [
    "# state_ids can be found using curl -X GET \"https://cdn-api.co-vin.in/api/v2/admin/location/states\" -H  \"accept: application/json\" -H  \"Accept-Language: hi_IN\"\n",
    "# Or open https://cdn-api.co-vin.in/api/v2/admin/location/states in browser\n",
    "# district_ids can be found using curl -X GET \"https://cdn-api.co-vin.in/api/v2/admin/location/districts/12\" -H  \"accept: application/json\" -H  \"Accept-Language: hi_IN\"\n",
    "# or open https://cdn-api.co-vin.in/api/v2/admin/location/districts/12 in browser, replace 12 with your state_id.\n",
    "\n",
    "# Online Python3 Compiler : https://www.programiz.com/python-programming/online-compiler/\n",
    "\n",
    "import requests\n",
    "import smtplib, ssl\n",
    "import time\n",
    "\n",
    "# Edit below details\n",
    "pin_code = \"201203\" # Enter your pin code\n",
    "date = \"04-05-2021\" # Enter tomorrow's date it'll find next 7 days information. Simply use a later date to find more slots.\n",
    "district_ids = ['650', '187', '496', '581', '651', '141', '145', '140', '146', '147', '143', '148', '149', '144', '150', '142'] # Optional use https://cdn-api.co-vin.in/api/v2/admin/location/districts/12 and https://cdn-api.co-vin.in/api/v2/admin/location/states\n",
    "timedelay = 3600  # reduce it at your own risk\n",
    "\n",
    "port = 465  # For SSL leave it as it is\n",
    "smtp_server = \"smtp.gmail.com\"\n",
    "sender_email = \"15104041harshit@gmail.com\"  # Enter your gmail address\n",
    "receiver_email = \"15104041harshit@gmail.com\"  # Enter receiver address\n",
    "password = input(\"Enter password: \")  # Enter your password\n",
    "\n",
    "## Make sure you use your useless gmail for this and enable less secure application by visiting this link \n",
    "## https://myaccount.google.com/lesssecureapps?pli=1&rapt=AEjHL4NxzCHX3C08uNJHsA8uPlkV4_QGJ_8fpWZYa8uFXcss_NyY9_RQb8Nlw4L4T5IZ5a8tQQQbbfdOaHXV-cTsFgfDdHcAwQ\n",
    "\n",
    "## No more edits\n",
    "\n",
    "url = \"https://cdn-api.co-vin.in/api/v2/appointment/sessions/public/calendarByPin\"\n",
    "url1 = \"https://cdn-api.co-vin.in/api/v2/appointment/sessions/public/calendarByDistrict\"\n",
    "def fun(pincode = \"201301\", district_ids = [], date = \"04-05-2021\"):\n",
    "    try:\n",
    "        res = \"\"\n",
    "        my_params = {'pincode' : pin_code, 'date': date}\n",
    "\n",
    "        response = requests.get(\n",
    "            url,\n",
    "            params = my_params,\n",
    "        )\n",
    "        response.raise_for_status()\n",
    "        centers = {}\n",
    "        result = response.json()\n",
    "        for i in result[\"centers\"]:\n",
    "            centers[i[\"center_id\"]] = i\n",
    "        count = 0\n",
    "        for id in district_ids:\n",
    "            my_params1 = {'district_id': id, 'date': date}\n",
    "            response = requests.get(\n",
    "                url1,\n",
    "                params = my_params1,\n",
    "            )\n",
    "            for i in response.json()[\"centers\"]:\n",
    "                if i[\"center_id\"] not in centers:\n",
    "                    centers[i[\"center_id\"]] = i\n",
    "\n",
    "        flag = False\n",
    "        for id, center in centers.items():\n",
    "            flag1 = False\n",
    "            sessions = center[\"sessions\"]\n",
    "            for session in sessions:\n",
    "                if session['min_age_limit'] < 45 and session['available_capacity'] > 0:\n",
    "                    if flag1 == False:\n",
    "                        res += f\"{center['state_name']}, {center['district_name']}, {center['name']}, from: {center['from']}, to: {center['to']}, fee_type: {center['fee_type']}\\n\"\n",
    "                        print(f\"{center['state_name']}, {center['district_name']}, {center['name']}, from: {center['from']}, to: {center['to']}, fee_type: {center['fee_type']}\")\n",
    "                        flag1 = True\n",
    "                    flag = True\n",
    "                    if session['available_capacity'] > 0:\n",
    "                        count += 1\n",
    "                        res += f\"{session['date']}, capacity: {session['available_capacity']}, age limit: {session['min_age_limit']}, vaccine: {session['vaccine']}, slots: {session['slots']}\\n\"\n",
    "                    if session['available_capacity'] >0:\n",
    "                        print(f\"{session['date']}, capacity: {session['available_capacity']}, age limit: {session['min_age_limit']}, vaccine: {session['vaccine']}, slots: {session['slots']}\")\n",
    "        if flag == False:\n",
    "            print(\"No vaccines available!\")\n",
    "        else:\n",
    "            print(f\"{count} sessions available.\")\n",
    "        if count > 0:\n",
    "            message = f\"{count} sessions available.\\n{res}\"\n",
    "            context = ssl.create_default_context()\n",
    "            with smtplib.SMTP_SSL(smtp_server, port, context=context) as server:\n",
    "                server.login(sender_email, password)\n",
    "                server.sendmail(sender_email, receiver_email, message)\n",
    "    except requests.exceptions.HTTPError as err:\n",
    "        raise SystemExit(err)\n",
    "\n",
    "if __name__ == '__main__':\n",
    "    while(1):\n",
    "        fun(pin_code, district_ids, date)\n",
    "        time.sleep(timedelay)"
   ]
  },
  {
   "cell_type": "code",
   "execution_count": null,
   "metadata": {},
   "outputs": [],
   "source": []
  },
  {
   "cell_type": "code",
   "execution_count": 1,
   "metadata": {},
   "outputs": [],
   "source": [
    "s = \"\"\"\n",
    "{\"districts\":[{\"district_id\":141,\"district_name\":\"Central Delhi\"},{\"district_id\":145,\"district_name\":\"East Delhi\"},{\"district_id\":140,\"district_name\":\"New Delhi\"},{\"district_id\":146,\"district_name\":\"North Delhi\"},{\"district_id\":147,\"district_name\":\"North East Delhi\"},{\"district_id\":143,\"district_name\":\"North West Delhi\"},{\"district_id\":148,\"district_name\":\"Shahdara\"},{\"district_id\":149,\"district_name\":\"South Delhi\"},{\"district_id\":144,\"district_name\":\"South East Delhi\"},{\"district_id\":150,\"district_name\":\"South West Delhi\"},{\"district_id\":142,\"district_name\":\"West Delhi\"}],\"ttl\":24}\"\"\""
   ]
  },
  {
   "cell_type": "code",
   "execution_count": 2,
   "metadata": {},
   "outputs": [],
   "source": [
    "import ast"
   ]
  },
  {
   "cell_type": "code",
   "execution_count": 4,
   "metadata": {},
   "outputs": [],
   "source": [
    "p = ast.literal_eval(s)"
   ]
  },
  {
   "cell_type": "code",
   "execution_count": 6,
   "metadata": {},
   "outputs": [
    {
     "data": {
      "text/plain": [
       "['141', '145', '140', '146', '147', '143', '148', '149', '144', '150', '142']"
      ]
     },
     "execution_count": 6,
     "metadata": {},
     "output_type": "execute_result"
    }
   ],
   "source": [
    "[str(i.get(\"district_id\")) for i in p.get(\"districts\")]"
   ]
  },
  {
   "cell_type": "code",
   "execution_count": null,
   "metadata": {},
   "outputs": [],
   "source": []
  }
 ],
 "metadata": {
  "kernelspec": {
   "display_name": "Python 3",
   "language": "python",
   "name": "python3"
  },
  "language_info": {
   "codemirror_mode": {
    "name": "ipython",
    "version": 3
   },
   "file_extension": ".py",
   "mimetype": "text/x-python",
   "name": "python",
   "nbconvert_exporter": "python",
   "pygments_lexer": "ipython3",
   "version": "3.7.9"
  }
 },
 "nbformat": 4,
 "nbformat_minor": 4
}
