{
 "cells": [
  {
   "cell_type": "code",
   "execution_count": 1,
   "metadata": {},
   "outputs": [],
   "source": [
    "from data_reader import DataReader\n",
    "from DeprivationScore import DeprivationModule\n",
    "from get_longevity import LongevityModule\n",
    "import pickle\n",
    "import numpy as np\n",
    "import pandas as pd"
   ]
  },
  {
   "cell_type": "code",
   "execution_count": 2,
   "metadata": {},
   "outputs": [],
   "source": [
    "with open(\"pickles/long_horizon_list.pickle\", \"rb\") as f:\n",
    "    long_horizon_list = pickle.load(f)\n",
    "    \n",
    "with open(\"pickles/short_horizon_list.pickle\", \"rb\") as f:\n",
    "    short_horizon_list = pickle.load(f)"
   ]
  },
  {
   "cell_type": "code",
   "execution_count": 3,
   "metadata": {},
   "outputs": [
    {
     "name": "stderr",
     "output_type": "stream",
     "text": [
      "c:\\users\\administrator\\appdata\\local\\programs\\python\\python37\\lib\\site-packages\\IPython\\core\\interactiveshell.py:3417: DtypeWarning: Columns (10) have mixed types.Specify dtype option on import or set low_memory=False.\n",
      "  exec(code_obj, self.user_global_ns, self.user_ns)\n"
     ]
    }
   ],
   "source": [
    "depri_obj = DeprivationModule()\n"
   ]
  },
  {
   "cell_type": "code",
   "execution_count": 4,
   "metadata": {},
   "outputs": [],
   "source": [
    "def get_deprivation_score_mean(nag_list, support_type):\n",
    "    t = []\n",
    "    for nag_id in nag_list:\n",
    "        score = depri_obj.get_deprivation_score(nag_id)[support_type]\n",
    "        t.append(score)\n",
    "    return np.mean(t), np.std(t)"
   ]
  },
  {
   "cell_type": "code",
   "execution_count": 5,
   "metadata": {},
   "outputs": [
    {
     "data": {
      "text/plain": [
       "(0.5725713220204425, 0.4617720793788092)"
      ]
     },
     "execution_count": 5,
     "metadata": {},
     "output_type": "execute_result"
    }
   ],
   "source": [
    "get_deprivation_score_mean(long_horizon_list, 'statesup_dep_score')"
   ]
  },
  {
   "cell_type": "code",
   "execution_count": 6,
   "metadata": {},
   "outputs": [
    {
     "data": {
      "text/plain": [
       "(0.596360541583732, 0.4487233435892035)"
      ]
     },
     "execution_count": 6,
     "metadata": {},
     "output_type": "execute_result"
    }
   ],
   "source": [
    "get_deprivation_score_mean(short_horizon_list, 'statesup_dep_score')"
   ]
  },
  {
   "cell_type": "code",
   "execution_count": null,
   "metadata": {},
   "outputs": [],
   "source": [
    "get_deprivation_score_mean(new_df[new_df[\"domsup\"]==0]['nagid'].tolist(), 'statesup_dep_score')"
   ]
  },
  {
   "cell_type": "code",
   "execution_count": null,
   "metadata": {},
   "outputs": [],
   "source": [
    "get_deprivation_score_mean(new_df[new_df[\"domsup\"]==1]['nagid'].tolist(), 'statesup_dep_score')"
   ]
  },
  {
   "cell_type": "code",
   "execution_count": null,
   "metadata": {},
   "outputs": [],
   "source": [
    "get_deprivation_score_mean(new_df[(new_df[\"domsup\"]==0) & (new_df[\"long_horizon\"]==0) ]['nagid'].tolist(), 'statesup_dep_score')"
   ]
  },
  {
   "cell_type": "code",
   "execution_count": null,
   "metadata": {},
   "outputs": [],
   "source": [
    "get_deprivation_score_mean(new_df[(new_df[\"domsup\"]==0) & (new_df[\"long_horizon\"]==1) ]['nagid'].tolist(), 'statesup_dep_score')"
   ]
  },
  {
   "cell_type": "code",
   "execution_count": null,
   "metadata": {},
   "outputs": [],
   "source": [
    "get_deprivation_score_mean(new_df[(new_df[\"domsup\"]==1) & (new_df[\"long_horizon\"]==0) ]['nagid'].tolist(), 'statesup_dep_score')"
   ]
  },
  {
   "cell_type": "code",
   "execution_count": null,
   "metadata": {},
   "outputs": [],
   "source": [
    "get_deprivation_score_mean(new_df[(new_df[\"domsup\"]==1) & (new_df[\"long_horizon\"]==1) ]['nagid'].tolist(), 'statesup_dep_score')"
   ]
  },
  {
   "cell_type": "code",
   "execution_count": null,
   "metadata": {},
   "outputs": [],
   "source": []
  },
  {
   "cell_type": "code",
   "execution_count": 18,
   "metadata": {},
   "outputs": [
    {
     "data": {
      "text/plain": [
       "(0.603782802381625, 0.46001423496600946)"
      ]
     },
     "execution_count": 18,
     "metadata": {},
     "output_type": "execute_result"
    }
   ],
   "source": [
    "get_deprivation_score_mean(long_horizon_list, 'defacto_dep_score')"
   ]
  },
  {
   "cell_type": "code",
   "execution_count": 19,
   "metadata": {},
   "outputs": [
    {
     "data": {
      "text/plain": [
       "(0.6775559551842932, 0.4332635464572153)"
      ]
     },
     "execution_count": 19,
     "metadata": {},
     "output_type": "execute_result"
    }
   ],
   "source": [
    "get_deprivation_score_mean(short_horizon_list, 'defacto_dep_score')"
   ]
  },
  {
   "cell_type": "code",
   "execution_count": null,
   "metadata": {},
   "outputs": [],
   "source": []
  },
  {
   "cell_type": "code",
   "execution_count": null,
   "metadata": {},
   "outputs": [],
   "source": []
  },
  {
   "cell_type": "code",
   "execution_count": null,
   "metadata": {},
   "outputs": [],
   "source": []
  },
  {
   "cell_type": "code",
   "execution_count": 7,
   "metadata": {},
   "outputs": [
    {
     "data": {
      "text/plain": [
       "(0.4274286779795575, 0.4617720793788092)"
      ]
     },
     "execution_count": 7,
     "metadata": {},
     "output_type": "execute_result"
    }
   ],
   "source": [
    "get_deprivation_score_mean(long_horizon_list, 'statesup_avail_score')"
   ]
  },
  {
   "cell_type": "code",
   "execution_count": 8,
   "metadata": {},
   "outputs": [
    {
     "data": {
      "text/plain": [
       "(0.4036394584162681, 0.4487233435892035)"
      ]
     },
     "execution_count": 8,
     "metadata": {},
     "output_type": "execute_result"
    }
   ],
   "source": [
    "get_deprivation_score_mean(short_horizon_list, 'statesup_avail_score')"
   ]
  },
  {
   "cell_type": "code",
   "execution_count": 9,
   "metadata": {},
   "outputs": [
    {
     "data": {
      "text/plain": [
       "(0.39621719761837493, 0.46001423496600946)"
      ]
     },
     "execution_count": 9,
     "metadata": {},
     "output_type": "execute_result"
    }
   ],
   "source": [
    "get_deprivation_score_mean(long_horizon_list, 'defacto_avail_score')"
   ]
  },
  {
   "cell_type": "code",
   "execution_count": 10,
   "metadata": {},
   "outputs": [
    {
     "data": {
      "text/plain": [
       "(0.32244404481570677, 0.4332635464572153)"
      ]
     },
     "execution_count": 10,
     "metadata": {},
     "output_type": "execute_result"
    }
   ],
   "source": [
    "get_deprivation_score_mean(short_horizon_list, 'defacto_avail_score')"
   ]
  },
  {
   "cell_type": "code",
   "execution_count": 11,
   "metadata": {
    "scrolled": true
   },
   "outputs": [],
   "source": [
    "new_df = pd.read_csv(\"files/nagid_domsup_horizon.csv\")"
   ]
  },
  {
   "cell_type": "code",
   "execution_count": 12,
   "metadata": {},
   "outputs": [
    {
     "data": {
      "text/plain": [
       "(0.37056690090406824, 0.4429435938528042)"
      ]
     },
     "execution_count": 12,
     "metadata": {},
     "output_type": "execute_result"
    }
   ],
   "source": [
    "\n",
    "get_deprivation_score_mean(new_df[new_df[\"domsup\"]==0]['nagid'].tolist(), 'statesup_avail_score')"
   ]
  },
  {
   "cell_type": "code",
   "execution_count": 13,
   "metadata": {},
   "outputs": [
    {
     "data": {
      "text/plain": [
       "(0.5824832419854075, 0.4580832755974882)"
      ]
     },
     "execution_count": 13,
     "metadata": {},
     "output_type": "execute_result"
    }
   ],
   "source": [
    "get_deprivation_score_mean(new_df[new_df[\"domsup\"]==1]['nagid'].tolist(), 'statesup_avail_score')"
   ]
  },
  {
   "cell_type": "code",
   "execution_count": 14,
   "metadata": {},
   "outputs": [
    {
     "data": {
      "text/plain": [
       "(0.3768901735439059, 0.4409319076357337)"
      ]
     },
     "execution_count": 14,
     "metadata": {},
     "output_type": "execute_result"
    }
   ],
   "source": [
    "get_deprivation_score_mean(new_df[(new_df[\"domsup\"]==0) & (new_df[\"long_horizon\"]==0) ]['nagid'].tolist(), 'statesup_avail_score')"
   ]
  },
  {
   "cell_type": "code",
   "execution_count": 15,
   "metadata": {},
   "outputs": [
    {
     "data": {
      "text/plain": [
       "(0.35892537909032746, 0.4463893383010491)"
      ]
     },
     "execution_count": 15,
     "metadata": {},
     "output_type": "execute_result"
    }
   ],
   "source": [
    "get_deprivation_score_mean(new_df[(new_df[\"domsup\"]==0) & (new_df[\"long_horizon\"]==1) ]['nagid'].tolist(), 'statesup_avail_score')"
   ]
  },
  {
   "cell_type": "code",
   "execution_count": 16,
   "metadata": {},
   "outputs": [
    {
     "data": {
      "text/plain": [
       "(0.5523654823066014, 0.46237982345852296)"
      ]
     },
     "execution_count": 16,
     "metadata": {},
     "output_type": "execute_result"
    }
   ],
   "source": [
    "get_deprivation_score_mean(new_df[(new_df[\"domsup\"]==1) & (new_df[\"long_horizon\"]==0) ]['nagid'].tolist(), 'statesup_avail_score')"
   ]
  },
  {
   "cell_type": "code",
   "execution_count": 17,
   "metadata": {},
   "outputs": [
    {
     "data": {
      "text/plain": [
       "(0.6089023294229565, 0.45263395873270273)"
      ]
     },
     "execution_count": 17,
     "metadata": {},
     "output_type": "execute_result"
    }
   ],
   "source": [
    "get_deprivation_score_mean(new_df[(new_df[\"domsup\"]==1) & (new_df[\"long_horizon\"]==1) ]['nagid'].tolist(), 'statesup_avail_score')"
   ]
  },
  {
   "cell_type": "code",
   "execution_count": null,
   "metadata": {},
   "outputs": [],
   "source": []
  }
 ],
 "metadata": {
  "kernelspec": {
   "display_name": "Python 3",
   "language": "python",
   "name": "python3"
  },
  "language_info": {
   "codemirror_mode": {
    "name": "ipython",
    "version": 3
   },
   "file_extension": ".py",
   "mimetype": "text/x-python",
   "name": "python",
   "nbconvert_exporter": "python",
   "pygments_lexer": "ipython3",
   "version": "3.7.9"
  }
 },
 "nbformat": 4,
 "nbformat_minor": 4
}
