{
 "cells": [
  {
   "cell_type": "code",
   "execution_count": 1,
   "metadata": {},
   "outputs": [],
   "source": [
    "from data_reader import DataReader\n",
    "from ideology_and_objective import IdeologicalObjectiveModule\n",
    "from get_longevity import LongevityModule\n",
    "from get_domestic_support import DSupModule\n",
    "import pickle\n",
    "import pandas as pd"
   ]
  },
  {
   "cell_type": "code",
   "execution_count": 2,
   "metadata": {},
   "outputs": [],
   "source": [
    "import numpy as np\n",
    "import matplotlib.pyplot as plt"
   ]
  },
  {
   "cell_type": "code",
   "execution_count": 3,
   "metadata": {},
   "outputs": [
    {
     "name": "stderr",
     "output_type": "stream",
     "text": [
      "c:\\users\\administrator\\appdata\\local\\programs\\python\\python37\\lib\\site-packages\\IPython\\core\\interactiveshell.py:3337: DtypeWarning: Columns (10) have mixed types.Specify dtype option on import or set low_memory=False.\n",
      "  if (await self.run_code(code, result,  async_=asy)):\n"
     ]
    }
   ],
   "source": [
    "data_obj = DataReader()"
   ]
  },
  {
   "cell_type": "code",
   "execution_count": 4,
   "metadata": {},
   "outputs": [
    {
     "name": "stderr",
     "output_type": "stream",
     "text": [
      "c:\\users\\administrator\\appdata\\local\\programs\\python\\python37\\lib\\site-packages\\IPython\\core\\interactiveshell.py:3417: DtypeWarning: Columns (10) have mixed types.Specify dtype option on import or set low_memory=False.\n",
      "  exec(code_obj, self.user_global_ns, self.user_ns)\n"
     ]
    }
   ],
   "source": [
    "df = data_obj.get_pandas_df()\n",
    "longevity_obj = LongevityModule()"
   ]
  },
  {
   "cell_type": "code",
   "execution_count": 5,
   "metadata": {},
   "outputs": [],
   "source": [
    "ds_obj = DSupModule()"
   ]
  },
  {
   "cell_type": "code",
   "execution_count": 6,
   "metadata": {},
   "outputs": [
    {
     "data": {
      "text/html": [
       "<div>\n",
       "<style scoped>\n",
       "    .dataframe tbody tr th:only-of-type {\n",
       "        vertical-align: middle;\n",
       "    }\n",
       "\n",
       "    .dataframe tbody tr th {\n",
       "        vertical-align: top;\n",
       "    }\n",
       "\n",
       "    .dataframe thead th {\n",
       "        text-align: right;\n",
       "    }\n",
       "</style>\n",
       "<table border=\"1\" class=\"dataframe\">\n",
       "  <thead>\n",
       "    <tr style=\"text-align: right;\">\n",
       "      <th></th>\n",
       "      <th>Triadid</th>\n",
       "      <th>DyadID</th>\n",
       "      <th>ConflictID</th>\n",
       "      <th>Startdate1</th>\n",
       "      <th>Startdate2</th>\n",
       "      <th>Target</th>\n",
       "      <th>TarNum_COW</th>\n",
       "      <th>NAG_name</th>\n",
       "      <th>NAGcode_1</th>\n",
       "      <th>NAGcode_2</th>\n",
       "      <th>...</th>\n",
       "      <th>DS_WeaponLog</th>\n",
       "      <th>DS_Precision_WL</th>\n",
       "      <th>DS_FinAid</th>\n",
       "      <th>DS_Precision_FinAid</th>\n",
       "      <th>DS_Transport</th>\n",
       "      <th>DS_Precision_Tp</th>\n",
       "      <th>DS_Other</th>\n",
       "      <th>DS_Precision_Oth</th>\n",
       "      <th>statesup</th>\n",
       "      <th>defacto</th>\n",
       "    </tr>\n",
       "  </thead>\n",
       "  <tbody>\n",
       "    <tr>\n",
       "      <th>0</th>\n",
       "      <td>775026800</td>\n",
       "      <td>322.0</td>\n",
       "      <td>24.0</td>\n",
       "      <td>20.03.1990</td>\n",
       "      <td>20.03.1990</td>\n",
       "      <td>Myanmar</td>\n",
       "      <td>775</td>\n",
       "      <td>ABSDF</td>\n",
       "      <td>26</td>\n",
       "      <td>1026.0</td>\n",
       "      <td>...</td>\n",
       "      <td>0.0</td>\n",
       "      <td>4.0</td>\n",
       "      <td>0.0</td>\n",
       "      <td>4.0</td>\n",
       "      <td>0.0</td>\n",
       "      <td>4.0</td>\n",
       "      <td>0.0</td>\n",
       "      <td>4.0</td>\n",
       "      <td>1</td>\n",
       "      <td>0</td>\n",
       "    </tr>\n",
       "    <tr>\n",
       "      <th>1</th>\n",
       "      <td>775026800</td>\n",
       "      <td>322.0</td>\n",
       "      <td>24.0</td>\n",
       "      <td>20.03.1990</td>\n",
       "      <td>20.03.1990</td>\n",
       "      <td>Myanmar</td>\n",
       "      <td>775</td>\n",
       "      <td>ABSDF</td>\n",
       "      <td>26</td>\n",
       "      <td>1026.0</td>\n",
       "      <td>...</td>\n",
       "      <td>0.0</td>\n",
       "      <td>4.0</td>\n",
       "      <td>0.0</td>\n",
       "      <td>4.0</td>\n",
       "      <td>0.0</td>\n",
       "      <td>4.0</td>\n",
       "      <td>0.0</td>\n",
       "      <td>4.0</td>\n",
       "      <td>1</td>\n",
       "      <td>0</td>\n",
       "    </tr>\n",
       "  </tbody>\n",
       "</table>\n",
       "<p>2 rows × 80 columns</p>\n",
       "</div>"
      ],
      "text/plain": [
       "     Triadid  DyadID  ConflictID  Startdate1  Startdate2   Target  TarNum_COW  \\\n",
       "0  775026800   322.0        24.0  20.03.1990  20.03.1990  Myanmar         775   \n",
       "1  775026800   322.0        24.0  20.03.1990  20.03.1990  Myanmar         775   \n",
       "\n",
       "  NAG_name  NAGcode_1  NAGcode_2  ... DS_WeaponLog DS_Precision_WL  DS_FinAid  \\\n",
       "0    ABSDF         26     1026.0  ...          0.0             4.0        0.0   \n",
       "1    ABSDF         26     1026.0  ...          0.0             4.0        0.0   \n",
       "\n",
       "   DS_Precision_FinAid  DS_Transport  DS_Precision_Tp  DS_Other  \\\n",
       "0                  4.0           0.0              4.0       0.0   \n",
       "1                  4.0           0.0              4.0       0.0   \n",
       "\n",
       "   DS_Precision_Oth  statesup defacto  \n",
       "0               4.0         1       0  \n",
       "1               4.0         1       0  \n",
       "\n",
       "[2 rows x 80 columns]"
      ]
     },
     "execution_count": 6,
     "metadata": {},
     "output_type": "execute_result"
    }
   ],
   "source": [
    "df.head(2)"
   ]
  },
  {
   "cell_type": "code",
   "execution_count": 7,
   "metadata": {},
   "outputs": [],
   "source": [
    "with open(\"pickles/long_horizon_list.pickle\", \"rb\") as f:\n",
    "    long_horizon_list = pickle.load(f)\n",
    "    \n",
    "with open(\"pickles/short_horizon_list.pickle\", \"rb\") as f:\n",
    "    short_horizon_list = pickle.load(f)"
   ]
  },
  {
   "cell_type": "code",
   "execution_count": 24,
   "metadata": {},
   "outputs": [],
   "source": [
    "new_df = pd.DataFrame(columns=[\"nagid\", \"long_horizon\", \"domsup\", \"ppd\", \"lifespan\"])"
   ]
  },
  {
   "cell_type": "code",
   "execution_count": 25,
   "metadata": {},
   "outputs": [],
   "source": [
    "new_df['nagid'] = df['NAGcode_1'].unique().tolist()"
   ]
  },
  {
   "cell_type": "code",
   "execution_count": 26,
   "metadata": {},
   "outputs": [],
   "source": [
    "nagids = new_df['nagid'].tolist()"
   ]
  },
  {
   "cell_type": "code",
   "execution_count": 27,
   "metadata": {},
   "outputs": [],
   "source": [
    "long_horizon_or_not = []\n",
    "for nagid in nagids:\n",
    "    temp = 0\n",
    "    if nagid in set(long_horizon_list):\n",
    "        temp = 1\n",
    "    long_horizon_or_not.append(temp)\n",
    "\n",
    "new_df['long_horizon'] = long_horizon_or_not"
   ]
  },
  {
   "cell_type": "code",
   "execution_count": 28,
   "metadata": {},
   "outputs": [],
   "source": [
    "domsup_or_not = []\n",
    "for nagid in nagids:\n",
    "    domsup = ds_obj.get(nagid)\n",
    "    domsup_or_not.append(domsup[0])\n",
    "\n",
    "new_df['domsup'] = domsup_or_not"
   ]
  },
  {
   "cell_type": "code",
   "execution_count": 29,
   "metadata": {},
   "outputs": [],
   "source": [
    "ppd_or_not = []\n",
    "for nagid in nagids:\n",
    "    ppd = ds_obj.get_political_party(nagid)\n",
    "    ppd_or_not.append(ppd[0])\n",
    "\n",
    "new_df['ppd'] = ppd_or_not"
   ]
  },
  {
   "cell_type": "code",
   "execution_count": 30,
   "metadata": {},
   "outputs": [],
   "source": [
    "lifespan = []\n",
    "for nagid in nagids:\n",
    "    l = longevity_obj.calculate_longevity(nagid)\n",
    "    lifespan.append(l[0])\n",
    "\n",
    "new_df['lifespan'] = lifespan"
   ]
  },
  {
   "cell_type": "code",
   "execution_count": 31,
   "metadata": {},
   "outputs": [],
   "source": [
    "new_df.to_csv(\"files/nagid_domsup_ppd_horizon_lifespan.csv\", index=False)"
   ]
  },
  {
   "cell_type": "code",
   "execution_count": 32,
   "metadata": {},
   "outputs": [],
   "source": [
    "new_df = pd.read_csv(\"files/nagid_domsup_ppd_horizon_lifespan.csv\")"
   ]
  },
  {
   "cell_type": "code",
   "execution_count": 33,
   "metadata": {},
   "outputs": [
    {
     "data": {
      "text/html": [
       "<div>\n",
       "<style scoped>\n",
       "    .dataframe tbody tr th:only-of-type {\n",
       "        vertical-align: middle;\n",
       "    }\n",
       "\n",
       "    .dataframe tbody tr th {\n",
       "        vertical-align: top;\n",
       "    }\n",
       "\n",
       "    .dataframe thead th {\n",
       "        text-align: right;\n",
       "    }\n",
       "</style>\n",
       "<table border=\"1\" class=\"dataframe\">\n",
       "  <thead>\n",
       "    <tr style=\"text-align: right;\">\n",
       "      <th></th>\n",
       "      <th>nagid</th>\n",
       "      <th>long_horizon</th>\n",
       "      <th>domsup</th>\n",
       "      <th>ppd</th>\n",
       "      <th>lifespan</th>\n",
       "    </tr>\n",
       "  </thead>\n",
       "  <tbody>\n",
       "    <tr>\n",
       "      <th>0</th>\n",
       "      <td>26</td>\n",
       "      <td>0</td>\n",
       "      <td>0</td>\n",
       "      <td>0</td>\n",
       "      <td>32</td>\n",
       "    </tr>\n",
       "    <tr>\n",
       "      <th>1</th>\n",
       "      <td>202</td>\n",
       "      <td>1</td>\n",
       "      <td>0</td>\n",
       "      <td>0</td>\n",
       "      <td>44</td>\n",
       "    </tr>\n",
       "    <tr>\n",
       "      <th>2</th>\n",
       "      <td>301</td>\n",
       "      <td>0</td>\n",
       "      <td>0</td>\n",
       "      <td>0</td>\n",
       "      <td>24</td>\n",
       "    </tr>\n",
       "    <tr>\n",
       "      <th>3</th>\n",
       "      <td>235</td>\n",
       "      <td>0</td>\n",
       "      <td>1</td>\n",
       "      <td>0</td>\n",
       "      <td>2</td>\n",
       "    </tr>\n",
       "    <tr>\n",
       "      <th>4</th>\n",
       "      <td>345</td>\n",
       "      <td>0</td>\n",
       "      <td>0</td>\n",
       "      <td>0</td>\n",
       "      <td>4</td>\n",
       "    </tr>\n",
       "    <tr>\n",
       "      <th>...</th>\n",
       "      <td>...</td>\n",
       "      <td>...</td>\n",
       "      <td>...</td>\n",
       "      <td>...</td>\n",
       "      <td>...</td>\n",
       "    </tr>\n",
       "    <tr>\n",
       "      <th>531</th>\n",
       "      <td>553</td>\n",
       "      <td>0</td>\n",
       "      <td>0</td>\n",
       "      <td>0</td>\n",
       "      <td>5</td>\n",
       "    </tr>\n",
       "    <tr>\n",
       "      <th>532</th>\n",
       "      <td>500</td>\n",
       "      <td>0</td>\n",
       "      <td>0</td>\n",
       "      <td>0</td>\n",
       "      <td>6</td>\n",
       "    </tr>\n",
       "    <tr>\n",
       "      <th>533</th>\n",
       "      <td>566</td>\n",
       "      <td>0</td>\n",
       "      <td>0</td>\n",
       "      <td>0</td>\n",
       "      <td>14</td>\n",
       "    </tr>\n",
       "    <tr>\n",
       "      <th>534</th>\n",
       "      <td>530</td>\n",
       "      <td>1</td>\n",
       "      <td>1</td>\n",
       "      <td>0</td>\n",
       "      <td>5</td>\n",
       "    </tr>\n",
       "    <tr>\n",
       "      <th>535</th>\n",
       "      <td>539</td>\n",
       "      <td>0</td>\n",
       "      <td>0</td>\n",
       "      <td>0</td>\n",
       "      <td>3</td>\n",
       "    </tr>\n",
       "  </tbody>\n",
       "</table>\n",
       "<p>536 rows × 5 columns</p>\n",
       "</div>"
      ],
      "text/plain": [
       "     nagid  long_horizon  domsup  ppd  lifespan\n",
       "0       26             0       0    0        32\n",
       "1      202             1       0    0        44\n",
       "2      301             0       0    0        24\n",
       "3      235             0       1    0         2\n",
       "4      345             0       0    0         4\n",
       "..     ...           ...     ...  ...       ...\n",
       "531    553             0       0    0         5\n",
       "532    500             0       0    0         6\n",
       "533    566             0       0    0        14\n",
       "534    530             1       1    0         5\n",
       "535    539             0       0    0         3\n",
       "\n",
       "[536 rows x 5 columns]"
      ]
     },
     "execution_count": 33,
     "metadata": {},
     "output_type": "execute_result"
    }
   ],
   "source": [
    "new_df"
   ]
  },
  {
   "cell_type": "code",
   "execution_count": 40,
   "metadata": {},
   "outputs": [],
   "source": [
    "def domsup_ppd(df, nagids):\n",
    "    return_dict = {}\n",
    "    df = df[df['nagid'].isin(nagids)]\n",
    "    f1 = (df['domsup']==1) \n",
    "    f2 = (df['ppd'] == 1)\n",
    "    df1 = df[f1]\n",
    "    df2 = df[f2]\n",
    "    df3 = df[f1 & f2]\n",
    "    return_dict = {\n",
    "        \"domsup_nags\": (df1.shape[0],df1['lifespan'].mean(),df1['lifespan'].std()),\n",
    "        \"ppd_nags\": (df2.shape[0],df2['lifespan'].mean(),df2['lifespan'].std()),\n",
    "        \"both_nags\":(df3.shape[0],df3['lifespan'].mean(),df3['lifespan'].std())\n",
    "    }\n",
    "    return return_dict\n",
    "\n",
    "def neither_domsup_ppd(df, nagids):\n",
    "    return_dict = {}\n",
    "    df = df[df['nagid'].isin(nagids)]\n",
    "    f1 = (df['domsup']==0) \n",
    "    f2 = (df['ppd'] == 0)\n",
    "    df1 = df[f1]\n",
    "    df2 = df[f2]\n",
    "    df3 = df[f1 & f2]\n",
    "    return_dict = {\n",
    "        \"no_domsup_nags\": (df1.shape[0],df1['lifespan'].mean(),df1['lifespan'].std()),\n",
    "        \"no_ppd_nags\": (df2.shape[0],df2['lifespan'].mean(),df2['lifespan'].std()),\n",
    "        \"neither_nags\":(df3.shape[0],df3['lifespan'].mean(),df3['lifespan'].std())\n",
    "    }\n",
    "    return return_dict\n",
    "\n",
    "def info(df, nagids):\n",
    "    t = domsup_ppd(df, nagids)\n",
    "    t2 = neither_domsup_ppd(df, nagids)\n",
    "    return t, t2"
   ]
  },
  {
   "cell_type": "code",
   "execution_count": 41,
   "metadata": {},
   "outputs": [
    {
     "data": {
      "text/plain": [
       "({'domsup_nags': (50, 13.24, 12.344642727986608),\n",
       "  'ppd_nags': (42, 17.5, 13.620733836467933),\n",
       "  'both_nags': (12, 20.083333333333332, 15.281946171475637)},\n",
       " {'no_domsup_nags': (278, 9.856115107913668, 13.019042510323843),\n",
       "  'no_ppd_nags': (286, 9.325174825174825, 12.544483479155392),\n",
       "  'neither_nags': (248, 9.056451612903226, 12.813708764336903)})"
      ]
     },
     "execution_count": 41,
     "metadata": {},
     "output_type": "execute_result"
    }
   ],
   "source": [
    "info(new_df, short_horizon_list)"
   ]
  },
  {
   "cell_type": "code",
   "execution_count": 42,
   "metadata": {},
   "outputs": [
    {
     "data": {
      "text/plain": [
       "({'domsup_nags': (57, 18.385964912280702, 15.226567930013589),\n",
       "  'ppd_nags': (34, 19.852941176470587, 16.992212749305107),\n",
       "  'both_nags': (15, 23.866666666666667, 18.360931608276566)},\n",
       " {'no_domsup_nags': (151, 14.748344370860927, 14.10872946939653),\n",
       "  'no_ppd_nags': (174, 14.942528735632184, 13.847940788751407),\n",
       "  'neither_nags': (132, 14.469696969696969, 13.92479220941593)})"
      ]
     },
     "execution_count": 42,
     "metadata": {},
     "output_type": "execute_result"
    }
   ],
   "source": [
    "info(new_df, long_horizon_list)"
   ]
  },
  {
   "cell_type": "code",
   "execution_count": null,
   "metadata": {},
   "outputs": [],
   "source": []
  },
  {
   "cell_type": "code",
   "execution_count": null,
   "metadata": {},
   "outputs": [],
   "source": []
  },
  {
   "cell_type": "code",
   "execution_count": null,
   "metadata": {},
   "outputs": [],
   "source": [
    "new_df[new_df['domsup']==1].shape"
   ]
  },
  {
   "cell_type": "code",
   "execution_count": null,
   "metadata": {},
   "outputs": [],
   "source": [
    "nagwithdomsup = new_df[new_df['domsup']==1]['nagid'].tolist()"
   ]
  },
  {
   "cell_type": "code",
   "execution_count": null,
   "metadata": {},
   "outputs": [],
   "source": [
    "domsup_nags = [longevity_obj.calculate_longevity(i)[0] for i in nagwithdomsup]\n",
    "get_mean_and_std(domsup_nags)"
   ]
  },
  {
   "cell_type": "code",
   "execution_count": null,
   "metadata": {},
   "outputs": [],
   "source": [
    "new_df[new_df['domsup']==0].shape"
   ]
  },
  {
   "cell_type": "code",
   "execution_count": null,
   "metadata": {},
   "outputs": [],
   "source": [
    "nagwithoutdomsup = new_df[new_df['domsup']==0]['nagid'].tolist()\n",
    "withoutdomsup_nags = [longevity_obj.calculate_longevity(i)[0] for i in nagwithoutdomsup]\n",
    "get_mean_and_std(withoutdomsup_nags)"
   ]
  },
  {
   "cell_type": "code",
   "execution_count": null,
   "metadata": {},
   "outputs": [],
   "source": [
    "# without dom and short\n",
    "\n",
    "new_df[(new_df['domsup']==0)&(new_df['long_horizon']==0)].shape"
   ]
  },
  {
   "cell_type": "code",
   "execution_count": null,
   "metadata": {},
   "outputs": [],
   "source": [
    "nagwithoutdomsup_short = new_df[(new_df['domsup']==0)&(new_df['long_horizon']==0)]['nagid'].tolist()\n",
    "withoutdomsup_nags_short = [longevity_obj.calculate_longevity(i)[0] for i in nagwithoutdomsup_short]\n",
    "get_mean_and_std(withoutdomsup_nags_short)"
   ]
  },
  {
   "cell_type": "code",
   "execution_count": null,
   "metadata": {},
   "outputs": [],
   "source": [
    "new_df[(new_df['domsup']==0)&(new_df['long_horizon']==1)].shape"
   ]
  },
  {
   "cell_type": "code",
   "execution_count": null,
   "metadata": {},
   "outputs": [],
   "source": [
    "nagwithoutdomsup_longg = new_df[(new_df['domsup']==0)&(new_df['long_horizon']==1)]['nagid'].tolist()\n",
    "withoutdomsup_nags_longg = [longevity_obj.calculate_longevity(i)[0] for i in nagwithoutdomsup_longg]\n",
    "get_mean_and_std(withoutdomsup_nags_longg)"
   ]
  },
  {
   "cell_type": "code",
   "execution_count": null,
   "metadata": {},
   "outputs": [],
   "source": [
    "# domsup and short\n",
    "new_df[(new_df['domsup']==1)&(new_df['long_horizon']==0)].shape"
   ]
  },
  {
   "cell_type": "code",
   "execution_count": null,
   "metadata": {},
   "outputs": [],
   "source": [
    "nagwithdomsup_short = new_df[(new_df['domsup']==1)&(new_df['long_horizon']==0)]['nagid'].tolist()\n",
    "withdomsup_nags_short = [longevity_obj.calculate_longevity(i)[0] for i in nagwithdomsup_short]\n",
    "get_mean_and_std(withdomsup_nags_short)"
   ]
  },
  {
   "cell_type": "code",
   "execution_count": null,
   "metadata": {},
   "outputs": [],
   "source": [
    "# domsup and long\n",
    "\n",
    "new_df[(new_df['domsup']==1)&(new_df['long_horizon']==1)].shape"
   ]
  },
  {
   "cell_type": "code",
   "execution_count": null,
   "metadata": {},
   "outputs": [],
   "source": [
    "nagwithdomsup_long = new_df[(new_df['domsup']==1)&(new_df['long_horizon']==1)]['nagid'].tolist()\n",
    "withdomsup_nags_long = [longevity_obj.calculate_longevity(i)[0] for i in nagwithdomsup_long]\n",
    "get_mean_and_std(withdomsup_nags_long)"
   ]
  },
  {
   "cell_type": "code",
   "execution_count": null,
   "metadata": {},
   "outputs": [],
   "source": []
  },
  {
   "cell_type": "code",
   "execution_count": null,
   "metadata": {},
   "outputs": [],
   "source": [
    "group_1 = {'demands_for_autonomy', 'territorial_demand'}\n",
    "short_horizon_list, long_horizon_list = [], []\n",
    "for nag_id in df['NAGcode_1'].unique():\n",
    "    objs = obj.get_objective(nag_id)\n",
    "    long_horizon = 1 if set(objs).intersection(group_1) != set() else 0\n",
    "    if long_horizon == 1:\n",
    "        long_horizon_list.append(nag_id)\n",
    "    elif long_horizon == 0:\n",
    "        short_horizon_list.append(nag_id)\n",
    "    else:\n",
    "        print(nag_id, objs, set(objs).intersection(group_1), long_horizon)"
   ]
  },
  {
   "cell_type": "code",
   "execution_count": null,
   "metadata": {},
   "outputs": [],
   "source": [
    "len(long_horizon_list), len(short_horizon_list)"
   ]
  },
  {
   "cell_type": "code",
   "execution_count": null,
   "metadata": {},
   "outputs": [],
   "source": [
    "long_nags = [longevity_obj.calculate_longevity(i)[0] for i in long_horizon_list]\n",
    "short_nags =[longevity_obj.calculate_longevity(i)[0] for i in short_horizon_list]\n",
    "\n",
    "all_nags = [longevity_obj.calculate_longevity(i)[0] for i in df['NAGcode_1'].unique()]"
   ]
  },
  {
   "cell_type": "code",
   "execution_count": null,
   "metadata": {},
   "outputs": [],
   "source": [
    "def get_mean_and_std(l):\n",
    "    return np.mean(l), np.std(l)"
   ]
  },
  {
   "cell_type": "code",
   "execution_count": null,
   "metadata": {},
   "outputs": [],
   "source": [
    "get_mean_and_std(long_nags)"
   ]
  },
  {
   "cell_type": "code",
   "execution_count": null,
   "metadata": {},
   "outputs": [],
   "source": [
    "get_mean_and_std(short_nags)"
   ]
  },
  {
   "cell_type": "code",
   "execution_count": null,
   "metadata": {},
   "outputs": [],
   "source": [
    "get_mean_and_std(all_nags)"
   ]
  },
  {
   "cell_type": "code",
   "execution_count": null,
   "metadata": {},
   "outputs": [],
   "source": [
    "len(long_horizon_list)"
   ]
  },
  {
   "cell_type": "code",
   "execution_count": null,
   "metadata": {},
   "outputs": [],
   "source": [
    "len(all_nags)"
   ]
  },
  {
   "cell_type": "code",
   "execution_count": null,
   "metadata": {},
   "outputs": [],
   "source": [
    "from ideology_and_objective import OBJECTIVE_MAP\n"
   ]
  },
  {
   "cell_type": "code",
   "execution_count": null,
   "metadata": {},
   "outputs": [],
   "source": [
    "OBJECTIVE_MAP"
   ]
  },
  {
   "cell_type": "code",
   "execution_count": null,
   "metadata": {},
   "outputs": [],
   "source": [
    "with open(\"pickles/long_horizon_list.pickle\", \"wb\") as f:\n",
    "    pickle.dump(long_horizon_list, f)"
   ]
  },
  {
   "cell_type": "code",
   "execution_count": null,
   "metadata": {},
   "outputs": [],
   "source": [
    "with open(\"pickles/short_horizon_list.pickle\", \"wb\") as f:\n",
    "    pickle.dump(short_horizon_list, f)"
   ]
  },
  {
   "cell_type": "code",
   "execution_count": null,
   "metadata": {},
   "outputs": [],
   "source": []
  },
  {
   "cell_type": "code",
   "execution_count": null,
   "metadata": {},
   "outputs": [],
   "source": [
    "df.columns"
   ]
  },
  {
   "cell_type": "code",
   "execution_count": null,
   "metadata": {},
   "outputs": [],
   "source": [
    "df['Tar_DomSup']"
   ]
  },
  {
   "cell_type": "code",
   "execution_count": null,
   "metadata": {},
   "outputs": [],
   "source": []
  }
 ],
 "metadata": {
  "kernelspec": {
   "display_name": "Python 3",
   "language": "python",
   "name": "python3"
  },
  "language_info": {
   "codemirror_mode": {
    "name": "ipython",
    "version": 3
   },
   "file_extension": ".py",
   "mimetype": "text/x-python",
   "name": "python",
   "nbconvert_exporter": "python",
   "pygments_lexer": "ipython3",
   "version": "3.7.9"
  }
 },
 "nbformat": 4,
 "nbformat_minor": 4
}
