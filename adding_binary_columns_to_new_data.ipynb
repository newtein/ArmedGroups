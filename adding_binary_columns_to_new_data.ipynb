{
 "cells": [
  {
   "cell_type": "code",
   "execution_count": 1,
   "metadata": {},
   "outputs": [],
   "source": [
    "import pandas as pd\n",
    "from data_reader import DataReader"
   ]
  },
  {
   "cell_type": "code",
   "execution_count": 2,
   "metadata": {},
   "outputs": [
    {
     "name": "stderr",
     "output_type": "stream",
     "text": [
      "c:\\users\\administrator\\appdata\\local\\programs\\python\\python37\\lib\\site-packages\\IPython\\core\\interactiveshell.py:3337: DtypeWarning: Columns (10,40,41,42,43,44,45,46,47,48,49,50,51,52,53,54,55,56,57,58,59,60,61,62,63,64,65,66,67,68,69,70,71,72,73,74,75,76,77) have mixed types.Specify dtype option on import or set low_memory=False.\n",
      "  if (await self.run_code(code, result,  async_=asy)):\n"
     ]
    }
   ],
   "source": [
    "data_obj = DataReader()"
   ]
  },
  {
   "cell_type": "code",
   "execution_count": 3,
   "metadata": {},
   "outputs": [],
   "source": [
    "df = data_obj.get_pandas_df()"
   ]
  },
  {
   "cell_type": "code",
   "execution_count": 4,
   "metadata": {
    "scrolled": true
   },
   "outputs": [
    {
     "data": {
      "text/plain": [
       "Index(['Triadid', 'DyadID', 'ConflictID', 'Startdate1', 'Startdate2', 'Target',\n",
       "       'TarNum_COW', 'NAG_name', 'NAGcode_1', 'NAGcode_2', 'Incomp', 'Terr',\n",
       "       'Foundyr', 'Year', 'NAGID_1', 'NAGID_2', 'NAGID_3', 'NAGID_4',\n",
       "       'NAGID_5', 'NAGEth', 'NAGRel', 'NAGLeft', 'NAGRight', 'NAGDem',\n",
       "       'NAGAuth', 'NAGDict', 'NAGMil', 'NAGTheo', 'NAGObj_1', 'NAGObj_2',\n",
       "       'NAGObj_3', 'NAGObj_4', 'NAGObj_5', 'NAGObj_6', 'PolParDummy',\n",
       "       'PartyName', 'Tar_DomSup', 'Tar_DomSup_Precision', 'StateSupporter',\n",
       "       'SupNum_COW', 'S_SafeMem', 'S_Precision_SM', 'S_SafeLead',\n",
       "       'S_Precision_SL', 'S_Offices', 'S_Precision_Head', 'S_TrainCamp',\n",
       "       'S_Precision_TC', 'S_Training', 'S_Precision_Train', 'S_WeaponLog',\n",
       "       'S_Precision_WL', 'S_FinAid', 'S_Precision_FinAid', 'S_Transport',\n",
       "       'S_Precision_Tp', 'S_Troop', 'S_Precision_Tr', 'S_Other',\n",
       "       'S_Precision_Oth', 'DS_SafeMem', 'DS_Precision_SM', 'DS_SafeLead',\n",
       "       'DS_Precision_SL', 'DS_Offices', 'DS_Precision_Head', 'DS_TrainCamp',\n",
       "       'DS_Precision_TC', 'DS_Training', 'DS_Precision_Train', 'DS_WeaponLog',\n",
       "       'DS_Precision_WL', 'DS_FinAid', 'DS_Precision_FinAid', 'DS_Transport',\n",
       "       'DS_Precision_Tp', 'DS_Other', 'DS_Precision_Oth'],\n",
       "      dtype='object')"
      ]
     },
     "execution_count": 4,
     "metadata": {},
     "output_type": "execute_result"
    }
   ],
   "source": [
    "df.columns"
   ]
  },
  {
   "cell_type": "code",
   "execution_count": 5,
   "metadata": {},
   "outputs": [],
   "source": [
    "active_support_variables = ['S_SafeMem', 'S_SafeLead', \n",
    "       'S_Offices', 'S_TrainCamp', \n",
    "       'S_Training',  'S_WeaponLog', \n",
    "       'S_FinAid',  'S_Transport', \n",
    "       'S_Troop']\n",
    "defacto_support_variables = ['DS_SafeMem', 'DS_SafeLead',  \n",
    "        'DS_Offices', 'DS_TrainCamp', 'DS_Training',\n",
    "        'DS_WeaponLog',  'DS_FinAid','DS_Transport']"
   ]
  },
  {
   "cell_type": "code",
   "execution_count": 6,
   "metadata": {},
   "outputs": [],
   "source": [
    "def get_active_support_variable(x):\n",
    "    flag = 0\n",
    "    for support_type in active_support_variables:\n",
    "        sup = x[support_type]\n",
    "        if not pd.isna(sup) and int(sup) == 1:\n",
    "            flag = 1\n",
    "            break\n",
    "    return flag\n",
    "\n",
    "def get_defacto_support_variable(x):\n",
    "    flag = 0\n",
    "    for support_type in defacto_support_variables:\n",
    "        sup = x[support_type]\n",
    "        if not pd.isna(sup) and int(sup) == 1:\n",
    "            flag = 1\n",
    "            break\n",
    "    return flag"
   ]
  },
  {
   "cell_type": "code",
   "execution_count": 7,
   "metadata": {},
   "outputs": [],
   "source": [
    "# df['statesup'] = df.apply(get_active_support_variable)\n",
    "df['statesup'] = df.apply(get_active_support_variable, axis = 1)\n",
    "df['defacto'] = df.apply(get_defacto_support_variable, axis = 1)"
   ]
  },
  {
   "cell_type": "code",
   "execution_count": 8,
   "metadata": {},
   "outputs": [],
   "source": [
    "df.to_csv(\"source_data/NAG_dataset_26April2020.csv\", sep=\"|\", index=False)"
   ]
  },
  {
   "cell_type": "code",
   "execution_count": 9,
   "metadata": {},
   "outputs": [
    {
     "data": {
      "text/html": [
       "<div>\n",
       "<style scoped>\n",
       "    .dataframe tbody tr th:only-of-type {\n",
       "        vertical-align: middle;\n",
       "    }\n",
       "\n",
       "    .dataframe tbody tr th {\n",
       "        vertical-align: top;\n",
       "    }\n",
       "\n",
       "    .dataframe thead th {\n",
       "        text-align: right;\n",
       "    }\n",
       "</style>\n",
       "<table border=\"1\" class=\"dataframe\">\n",
       "  <thead>\n",
       "    <tr style=\"text-align: right;\">\n",
       "      <th></th>\n",
       "      <th>S_SafeMem</th>\n",
       "      <th>S_SafeLead</th>\n",
       "      <th>S_Offices</th>\n",
       "      <th>S_TrainCamp</th>\n",
       "      <th>S_Training</th>\n",
       "      <th>S_WeaponLog</th>\n",
       "      <th>S_FinAid</th>\n",
       "      <th>S_Transport</th>\n",
       "      <th>S_Troop</th>\n",
       "      <th>statesup</th>\n",
       "    </tr>\n",
       "  </thead>\n",
       "  <tbody>\n",
       "    <tr>\n",
       "      <th>0</th>\n",
       "      <td>1</td>\n",
       "      <td>0</td>\n",
       "      <td>0</td>\n",
       "      <td>1</td>\n",
       "      <td>0</td>\n",
       "      <td>0</td>\n",
       "      <td>0</td>\n",
       "      <td>0</td>\n",
       "      <td>0</td>\n",
       "      <td>1</td>\n",
       "    </tr>\n",
       "    <tr>\n",
       "      <th>1</th>\n",
       "      <td>1</td>\n",
       "      <td>0</td>\n",
       "      <td>0</td>\n",
       "      <td>1</td>\n",
       "      <td>0</td>\n",
       "      <td>0</td>\n",
       "      <td>0</td>\n",
       "      <td>0</td>\n",
       "      <td>0</td>\n",
       "      <td>1</td>\n",
       "    </tr>\n",
       "    <tr>\n",
       "      <th>2</th>\n",
       "      <td>1</td>\n",
       "      <td>0</td>\n",
       "      <td>0</td>\n",
       "      <td>1</td>\n",
       "      <td>0</td>\n",
       "      <td>0</td>\n",
       "      <td>0</td>\n",
       "      <td>0</td>\n",
       "      <td>0</td>\n",
       "      <td>1</td>\n",
       "    </tr>\n",
       "    <tr>\n",
       "      <th>3</th>\n",
       "      <td>1</td>\n",
       "      <td>0</td>\n",
       "      <td>0</td>\n",
       "      <td>1</td>\n",
       "      <td>0</td>\n",
       "      <td>0</td>\n",
       "      <td>0</td>\n",
       "      <td>0</td>\n",
       "      <td>0</td>\n",
       "      <td>1</td>\n",
       "    </tr>\n",
       "    <tr>\n",
       "      <th>4</th>\n",
       "      <td>1</td>\n",
       "      <td>0</td>\n",
       "      <td>0</td>\n",
       "      <td>1</td>\n",
       "      <td>0</td>\n",
       "      <td>0</td>\n",
       "      <td>0</td>\n",
       "      <td>0</td>\n",
       "      <td>0</td>\n",
       "      <td>1</td>\n",
       "    </tr>\n",
       "    <tr>\n",
       "      <th>...</th>\n",
       "      <td>...</td>\n",
       "      <td>...</td>\n",
       "      <td>...</td>\n",
       "      <td>...</td>\n",
       "      <td>...</td>\n",
       "      <td>...</td>\n",
       "      <td>...</td>\n",
       "      <td>...</td>\n",
       "      <td>...</td>\n",
       "      <td>...</td>\n",
       "    </tr>\n",
       "    <tr>\n",
       "      <th>20577</th>\n",
       "      <td>0</td>\n",
       "      <td>0</td>\n",
       "      <td>0</td>\n",
       "      <td>0</td>\n",
       "      <td>0</td>\n",
       "      <td>0</td>\n",
       "      <td>0</td>\n",
       "      <td>0</td>\n",
       "      <td>0</td>\n",
       "      <td>0</td>\n",
       "    </tr>\n",
       "    <tr>\n",
       "      <th>20578</th>\n",
       "      <td>0</td>\n",
       "      <td>0</td>\n",
       "      <td>0</td>\n",
       "      <td>0</td>\n",
       "      <td>0</td>\n",
       "      <td>0</td>\n",
       "      <td>0</td>\n",
       "      <td>0</td>\n",
       "      <td>0</td>\n",
       "      <td>0</td>\n",
       "    </tr>\n",
       "    <tr>\n",
       "      <th>20579</th>\n",
       "      <td>1</td>\n",
       "      <td>0</td>\n",
       "      <td>0</td>\n",
       "      <td>0</td>\n",
       "      <td>0</td>\n",
       "      <td>1</td>\n",
       "      <td>1</td>\n",
       "      <td>0</td>\n",
       "      <td>1</td>\n",
       "      <td>1</td>\n",
       "    </tr>\n",
       "    <tr>\n",
       "      <th>20580</th>\n",
       "      <td>1</td>\n",
       "      <td>0</td>\n",
       "      <td>0</td>\n",
       "      <td>0</td>\n",
       "      <td>0</td>\n",
       "      <td>1</td>\n",
       "      <td>1</td>\n",
       "      <td>0</td>\n",
       "      <td>1</td>\n",
       "      <td>1</td>\n",
       "    </tr>\n",
       "    <tr>\n",
       "      <th>20581</th>\n",
       "      <td>1</td>\n",
       "      <td>0</td>\n",
       "      <td>0</td>\n",
       "      <td>0</td>\n",
       "      <td>0</td>\n",
       "      <td>1</td>\n",
       "      <td>1</td>\n",
       "      <td>0</td>\n",
       "      <td>1</td>\n",
       "      <td>1</td>\n",
       "    </tr>\n",
       "  </tbody>\n",
       "</table>\n",
       "<p>20582 rows × 10 columns</p>\n",
       "</div>"
      ],
      "text/plain": [
       "      S_SafeMem S_SafeLead S_Offices S_TrainCamp S_Training S_WeaponLog  \\\n",
       "0             1          0         0           1          0           0   \n",
       "1             1          0         0           1          0           0   \n",
       "2             1          0         0           1          0           0   \n",
       "3             1          0         0           1          0           0   \n",
       "4             1          0         0           1          0           0   \n",
       "...         ...        ...       ...         ...        ...         ...   \n",
       "20577         0          0         0           0          0           0   \n",
       "20578         0          0         0           0          0           0   \n",
       "20579         1          0         0           0          0           1   \n",
       "20580         1          0         0           0          0           1   \n",
       "20581         1          0         0           0          0           1   \n",
       "\n",
       "      S_FinAid S_Transport S_Troop  statesup  \n",
       "0            0           0       0         1  \n",
       "1            0           0       0         1  \n",
       "2            0           0       0         1  \n",
       "3            0           0       0         1  \n",
       "4            0           0       0         1  \n",
       "...        ...         ...     ...       ...  \n",
       "20577        0           0       0         0  \n",
       "20578        0           0       0         0  \n",
       "20579        1           0       1         1  \n",
       "20580        1           0       1         1  \n",
       "20581        1           0       1         1  \n",
       "\n",
       "[20582 rows x 10 columns]"
      ]
     },
     "execution_count": 9,
     "metadata": {},
     "output_type": "execute_result"
    }
   ],
   "source": [
    "s = active_support_variables + ['statesup']\n",
    "\n",
    "df[s]"
   ]
  },
  {
   "cell_type": "code",
   "execution_count": null,
   "metadata": {},
   "outputs": [],
   "source": [
    "s = defacto_support_variables + ['defacto']\n",
    "\n",
    "df[s]"
   ]
  },
  {
   "cell_type": "code",
   "execution_count": null,
   "metadata": {},
   "outputs": [],
   "source": [
    "df.to_csv(\"source_data/NAG_dataset_v0.csv\", index=False)"
   ]
  },
  {
   "cell_type": "code",
   "execution_count": null,
   "metadata": {},
   "outputs": [],
   "source": [
    "df.columns"
   ]
  },
  {
   "cell_type": "code",
   "execution_count": null,
   "metadata": {},
   "outputs": [],
   "source": []
  },
  {
   "cell_type": "code",
   "execution_count": null,
   "metadata": {},
   "outputs": [],
   "source": [
    "df1 = pd.read_stata('source_data/Triadic_apr7_harshit.dta')"
   ]
  },
  {
   "cell_type": "code",
   "execution_count": null,
   "metadata": {},
   "outputs": [],
   "source": [
    "df2 = pd.read_csv(\"source_data/NAG_dataset_v0.csv\")"
   ]
  },
  {
   "cell_type": "code",
   "execution_count": null,
   "metadata": {},
   "outputs": [],
   "source": [
    "df2.drop(['statesup', 'defacto'], axis = 1, inplace=True)"
   ]
  },
  {
   "cell_type": "code",
   "execution_count": null,
   "metadata": {},
   "outputs": [],
   "source": [
    "df1==df2"
   ]
  },
  {
   "cell_type": "code",
   "execution_count": null,
   "metadata": {},
   "outputs": [],
   "source": [
    "small_df = df[df['NAGcode_1']==10]"
   ]
  },
  {
   "cell_type": "code",
   "execution_count": null,
   "metadata": {},
   "outputs": [],
   "source": [
    "small_df.sort_values(by=['Year'])['Year']"
   ]
  },
  {
   "cell_type": "code",
   "execution_count": null,
   "metadata": {},
   "outputs": [],
   "source": []
  }
 ],
 "metadata": {
  "kernelspec": {
   "display_name": "Python 3",
   "language": "python",
   "name": "python3"
  },
  "language_info": {
   "codemirror_mode": {
    "name": "ipython",
    "version": 3
   },
   "file_extension": ".py",
   "mimetype": "text/x-python",
   "name": "python",
   "nbconvert_exporter": "python",
   "pygments_lexer": "ipython3",
   "version": "3.7.9"
  }
 },
 "nbformat": 4,
 "nbformat_minor": 4
}
