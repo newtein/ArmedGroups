{
 "cells": [
  {
   "cell_type": "code",
   "execution_count": 1,
   "metadata": {},
   "outputs": [],
   "source": [
    "from data_reader import DataReader\n",
    "import pickle\n",
    "from supporter_countries import SupportModule\n",
    "from ideology_and_objective import IdeologicalObjectiveModule\n",
    "import numpy as np\n",
    "from ideology_homophily_score import IdeologyHomophillyScore\n",
    "from get_supporter_homophily_from_nag import SupporterHomophillyFromNAG\n",
    "import pandas as pd"
   ]
  },
  {
   "cell_type": "code",
   "execution_count": 2,
   "metadata": {},
   "outputs": [],
   "source": [
    "with open(\"pickles/long_horizon_list.pickle\", \"rb\") as f:\n",
    "    long_horizon_list = pickle.load(f)\n",
    "    \n",
    "with open(\"pickles/short_horizon_list.pickle\", \"rb\") as f:\n",
    "    short_horizon_list = pickle.load(f)"
   ]
  },
  {
   "cell_type": "code",
   "execution_count": 3,
   "metadata": {},
   "outputs": [
    {
     "name": "stderr",
     "output_type": "stream",
     "text": [
      "c:\\users\\administrator\\appdata\\local\\programs\\python\\python37\\lib\\site-packages\\IPython\\core\\interactiveshell.py:3337: DtypeWarning: Columns (10) have mixed types.Specify dtype option on import or set low_memory=False.\n",
      "  if (await self.run_code(code, result,  async_=asy)):\n"
     ]
    }
   ],
   "source": [
    "df = DataReader().get_pandas_df()"
   ]
  },
  {
   "cell_type": "code",
   "execution_count": 4,
   "metadata": {},
   "outputs": [
    {
     "data": {
      "text/plain": [
       "Index(['Triadid', 'DyadID', 'ConflictID', 'Startdate1', 'Startdate2', 'Target',\n",
       "       'TarNum_COW', 'NAG_name', 'NAGcode_1', 'NAGcode_2', 'Incomp', 'Terr',\n",
       "       'Foundyr', 'Year', 'NAGID_1', 'NAGID_2', 'NAGID_3', 'NAGID_4',\n",
       "       'NAGID_5', 'NAGEth', 'NAGRel', 'NAGLeft', 'NAGRight', 'NAGDem',\n",
       "       'NAGAuth', 'NAGDict', 'NAGMil', 'NAGTheo', 'NAGObj_1', 'NAGObj_2',\n",
       "       'NAGObj_3', 'NAGObj_4', 'NAGObj_5', 'NAGObj_6', 'PolParDummy',\n",
       "       'PartyName', 'Tar_DomSup', 'Tar_DomSup_Precision', 'StateSupporter',\n",
       "       'SupNum_COW', 'S_SafeMem', 'S_Precision_SM', 'S_SafeLead',\n",
       "       'S_Precision_SL', 'S_Offices', 'S_Precision_Head', 'S_TrainCamp',\n",
       "       'S_Precision_TC', 'S_Training', 'S_Precision_Train', 'S_WeaponLog',\n",
       "       'S_Precision_WL', 'S_FinAid', 'S_Precision_FinAid', 'S_Transport',\n",
       "       'S_Precision_Tp', 'S_Troop', 'S_Precision_Tr', 'S_Other',\n",
       "       'S_Precision_Oth', 'DS_SafeMem', 'DS_Precision_SM', 'DS_SafeLead',\n",
       "       'DS_Precision_SL', 'DS_Offices', 'DS_Precision_Head', 'DS_TrainCamp',\n",
       "       'DS_Precision_TC', 'DS_Training', 'DS_Precision_Train', 'DS_WeaponLog',\n",
       "       'DS_Precision_WL', 'DS_FinAid', 'DS_Precision_FinAid', 'DS_Transport',\n",
       "       'DS_Precision_Tp', 'DS_Other', 'DS_Precision_Oth', 'statesup',\n",
       "       'defacto'],\n",
       "      dtype='object')"
      ]
     },
     "execution_count": 4,
     "metadata": {},
     "output_type": "execute_result"
    }
   ],
   "source": [
    "df.columns"
   ]
  },
  {
   "cell_type": "code",
   "execution_count": 17,
   "metadata": {},
   "outputs": [
    {
     "data": {
      "text/plain": [
       "{'supporter_COW': 800,\n",
       " 'num_of_supporters': 12,\n",
       " 'sup_duration_mean': 17.25,\n",
       " 'sup_duration_std': 14.012643100666864}"
      ]
     },
     "execution_count": 17,
     "metadata": {},
     "output_type": "execute_result"
    }
   ],
   "source": [
    "supporter_COW = 800\n",
    "\n",
    "data  "
   ]
  },
  {
   "cell_type": "code",
   "execution_count": 11,
   "metadata": {},
   "outputs": [
    {
     "data": {
      "text/plain": [
       "{'whiskers': [<matplotlib.lines.Line2D at 0x14291c33c88>,\n",
       "  <matplotlib.lines.Line2D at 0x14291c45c88>],\n",
       " 'caps': [<matplotlib.lines.Line2D at 0x14291c52dc8>,\n",
       "  <matplotlib.lines.Line2D at 0x14291c58948>],\n",
       " 'boxes': [<matplotlib.lines.Line2D at 0x14291c45b48>],\n",
       " 'medians': [<matplotlib.lines.Line2D at 0x14291c58e88>],\n",
       " 'fliers': [<matplotlib.lines.Line2D at 0x14291c523c8>],\n",
       " 'means': []}"
      ]
     },
     "execution_count": 11,
     "metadata": {},
     "output_type": "execute_result"
    },
    {
     "data": {
      "image/png": "[encoded data removed]",
      "text/plain": [
       "<Figure size 432x288 with 1 Axes>"
      ]
     },
     "metadata": {
      "needs_background": "light"
     },
     "output_type": "display_data"
    }
   ],
   "source": [
    "import matplotlib.pyplot as plt\n",
    "\n",
    "plt.boxplot([8, 8, 43, 1, 26, 11, 10, 15, 1, 32, 11, 41])"
   ]
  },
  {
   "cell_type": "code",
   "execution_count": null,
   "metadata": {},
   "outputs": [],
   "source": [
    "# useless below this"
   ]
  },
  {
   "cell_type": "code",
   "execution_count": null,
   "metadata": {},
   "outputs": [],
   "source": [
    "sup_obj = SupportModule()\n",
    "homo_obj = SupporterHomophillyFromNAG()"
   ]
  },
  {
   "cell_type": "code",
   "execution_count": null,
   "metadata": {},
   "outputs": [],
   "source": [
    "def get_score(nagcode):\n",
    "    ideology, nonideology = 0, 0\n",
    "    support_list = sup_obj.get_supporter_from_NAGcode(nagcode)\n",
    "    ideology_likelihood, nonideology_likelihood = [], []\n",
    "    for support_code in support_list:\n",
    "        info = homo_obj.get_supporter_info(support_code)\n",
    "        predominant_ideology = info.get('predominant_ideology')\n",
    "        likelihood = info.get('likelihood')\n",
    "        if predominant_ideology in ideologies:\n",
    "            ideology += 1\n",
    "            ideology_likelihood.append(likelihood)\n",
    "        elif predominant_ideology == 'no_ideology':\n",
    "            nonideology += 1\n",
    "            nonideology_likelihood.append(likelihood)\n",
    "    data = {\"NAGcode\": nagcode, \"num_of_supporters\": len(support_list),\n",
    "           \"ideology\": ideology, \"nonideology\": nonideology,\n",
    "           \"ideology_likelihood\":np.median(ideology_likelihood),\n",
    "            \"nonideology_likelihood\":np.median(nonideology_likelihood)}\n",
    "    return data\n",
    "\n",
    "columns= [\"NAGcode\", \"num_of_supporters\", \"ideology\",\"nonideology\",\n",
    "         \"ideology_likelihood\",\"nonideology_likelihood\"]\n",
    "homophily_df = pd.DataFrame(columns=columns)\n",
    "ideologies = {'ethno_nationalist', 'religious', 'leftist'}\n",
    "for nagcode in df['NAGcode_1'].unique():\n",
    "    data = get_score(nagcode)\n",
    "    t_df = pd.DataFrame(data, index=[0])\n",
    "    homophily_df = homophily_df.append(t_df)"
   ]
  },
  {
   "cell_type": "code",
   "execution_count": null,
   "metadata": {},
   "outputs": [],
   "source": [
    "columns= [\"NAGcode\", \"num_of_supporters\", \"ideology\",\"nonideology\",\n",
    "         \"ideology_likelihood\",\"nonideology_likelihood\"]\n",
    "long_homophily_df = pd.DataFrame(columns=columns)\n",
    "ideologies = {'ethno_nationalist', 'religious', 'leftist'}\n",
    "for nagcode in long_horizon_list:\n",
    "    data = get_score(nagcode)\n",
    "    t_df = pd.DataFrame(data, index=[0])\n",
    "    long_homophily_df = long_homophily_df.append(t_df)"
   ]
  },
  {
   "cell_type": "code",
   "execution_count": null,
   "metadata": {},
   "outputs": [],
   "source": [
    "long_homophily_df[long_homophily_df['num_of_supporters']>0].mean()"
   ]
  },
  {
   "cell_type": "code",
   "execution_count": null,
   "metadata": {},
   "outputs": [],
   "source": [
    "long_homophily_df[long_homophily_df['num_of_supporters']>0].median()"
   ]
  },
  {
   "cell_type": "code",
   "execution_count": null,
   "metadata": {},
   "outputs": [],
   "source": [
    "long_homophily_df[long_homophily_df['num_of_supporters']>0].count()"
   ]
  },
  {
   "cell_type": "code",
   "execution_count": null,
   "metadata": {},
   "outputs": [],
   "source": [
    "columns= [\"NAGcode\", \"num_of_supporters\", \"ideology\",\"nonideology\",\n",
    "         \"ideology_likelihood\",\"nonideology_likelihood\"]\n",
    "short_homophily_df = pd.DataFrame(columns=columns)\n",
    "ideologies = {'ethno_nationalist', 'religious', 'leftist'}\n",
    "for nagcode in short_horizon_list:\n",
    "    data = get_score(nagcode)\n",
    "    t_df = pd.DataFrame(data, index=[0])\n",
    "    short_homophily_df = short_homophily_df.append(t_df)"
   ]
  },
  {
   "cell_type": "code",
   "execution_count": null,
   "metadata": {},
   "outputs": [],
   "source": [
    "short_homophily_df[short_homophily_df['num_of_supporters']>0].mean()"
   ]
  },
  {
   "cell_type": "code",
   "execution_count": null,
   "metadata": {},
   "outputs": [],
   "source": [
    "short_homophily_df[short_homophily_df['num_of_supporters']>0].median()"
   ]
  },
  {
   "cell_type": "code",
   "execution_count": null,
   "metadata": {},
   "outputs": [],
   "source": [
    "short_homophily_df[short_homophily_df['num_of_supporters']>0].count()"
   ]
  },
  {
   "cell_type": "code",
   "execution_count": null,
   "metadata": {},
   "outputs": [],
   "source": []
  }
 ],
 "metadata": {
  "kernelspec": {
   "display_name": "Python 3",
   "language": "python",
   "name": "python3"
  },
  "language_info": {
   "codemirror_mode": {
    "name": "ipython",
    "version": 3
   },
   "file_extension": ".py",
   "mimetype": "text/x-python",
   "name": "python",
   "nbconvert_exporter": "python",
   "pygments_lexer": "ipython3",
   "version": "3.7.9"
  }
 },
 "nbformat": 4,
 "nbformat_minor": 4
}
