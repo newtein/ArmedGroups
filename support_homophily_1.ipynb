{
 "cells": [
  {
   "cell_type": "code",
   "execution_count": 11,
   "metadata": {},
   "outputs": [],
   "source": [
    "from data_reader import DataReader\n",
    "import pickle\n",
    "from supporter_countries import SupportModule\n",
    "from ideology_and_objective import IdeologicalObjectiveModule\n",
    "import numpy as np"
   ]
  },
  {
   "cell_type": "code",
   "execution_count": 2,
   "metadata": {},
   "outputs": [],
   "source": [
    "with open(\"pickles/long_horizon_list.pickle\", \"rb\") as f:\n",
    "    long_horizon_list = pickle.load(f)\n",
    "    \n",
    "with open(\"pickles/short_horizon_list.pickle\", \"rb\") as f:\n",
    "    short_horizon_list = pickle.load(f)"
   ]
  },
  {
   "cell_type": "code",
   "execution_count": 21,
   "metadata": {},
   "outputs": [
    {
     "name": "stderr",
     "output_type": "stream",
     "text": [
      "c:\\users\\administrator\\appdata\\local\\programs\\python\\python37\\lib\\site-packages\\IPython\\core\\interactiveshell.py:3337: DtypeWarning: Columns (10) have mixed types.Specify dtype option on import or set low_memory=False.\n",
      "  if (await self.run_code(code, result,  async_=asy)):\n"
     ]
    }
   ],
   "source": [
    "df = DataReader().get_pandas_df()"
   ]
  },
  {
   "cell_type": "code",
   "execution_count": 4,
   "metadata": {},
   "outputs": [
    {
     "name": "stderr",
     "output_type": "stream",
     "text": [
      "c:\\users\\administrator\\appdata\\local\\programs\\python\\python37\\lib\\site-packages\\IPython\\core\\interactiveshell.py:3417: DtypeWarning: Columns (10) have mixed types.Specify dtype option on import or set low_memory=False.\n",
      "  exec(code_obj, self.user_global_ns, self.user_ns)\n"
     ]
    }
   ],
   "source": [
    "sup_obj = SupportModule()\n",
    "ideo_obj = IdeologicalObjectiveModule()"
   ]
  },
  {
   "cell_type": "code",
   "execution_count": 5,
   "metadata": {},
   "outputs": [
    {
     "data": {
      "text/plain": [
       "Index(['Triadid', 'DyadID', 'ConflictID', 'Startdate1', 'Startdate2', 'Target',\n",
       "       'TarNum_COW', 'NAG_name', 'NAGcode_1', 'NAGcode_2', 'Incomp', 'Terr',\n",
       "       'Foundyr', 'Year', 'NAGID_1', 'NAGID_2', 'NAGID_3', 'NAGID_4',\n",
       "       'NAGID_5', 'NAGEth', 'NAGRel', 'NAGLeft', 'NAGRight', 'NAGDem',\n",
       "       'NAGAuth', 'NAGDict', 'NAGMil', 'NAGTheo', 'NAGObj_1', 'NAGObj_2',\n",
       "       'NAGObj_3', 'NAGObj_4', 'NAGObj_5', 'NAGObj_6', 'PolParDummy',\n",
       "       'PartyName', 'Tar_DomSup', 'Tar_DomSup_Precision', 'StateSupporter',\n",
       "       'SupNum_COW', 'S_SafeMem', 'S_Precision_SM', 'S_SafeLead',\n",
       "       'S_Precision_SL', 'S_Offices', 'S_Precision_Head', 'S_TrainCamp',\n",
       "       'S_Precision_TC', 'S_Training', 'S_Precision_Train', 'S_WeaponLog',\n",
       "       'S_Precision_WL', 'S_FinAid', 'S_Precision_FinAid', 'S_Transport',\n",
       "       'S_Precision_Tp', 'S_Troop', 'S_Precision_Tr', 'S_Other',\n",
       "       'S_Precision_Oth', 'DS_SafeMem', 'DS_Precision_SM', 'DS_SafeLead',\n",
       "       'DS_Precision_SL', 'DS_Offices', 'DS_Precision_Head', 'DS_TrainCamp',\n",
       "       'DS_Precision_TC', 'DS_Training', 'DS_Precision_Train', 'DS_WeaponLog',\n",
       "       'DS_Precision_WL', 'DS_FinAid', 'DS_Precision_FinAid', 'DS_Transport',\n",
       "       'DS_Precision_Tp', 'DS_Other', 'DS_Precision_Oth', 'statesup',\n",
       "       'defacto'],\n",
       "      dtype='object')"
      ]
     },
     "execution_count": 5,
     "metadata": {},
     "output_type": "execute_result"
    }
   ],
   "source": [
    "df.columns"
   ]
  },
  {
   "cell_type": "code",
   "execution_count": 6,
   "metadata": {},
   "outputs": [
    {
     "name": "stdout",
     "output_type": "stream",
     "text": [
      "Thailand {1, 8, 21, 22, 26, 155, 31, 160, 37, 167, 64, 66, 87, 91, 93, 95, 97, 483, 111, 113, 123}\n",
      "nan set()\n",
      "Democratic Republic of the Congo/Zaire {353, 484, 358, 294, 75, 300, 301, 302, 303, 555, 525, 466, 246, 378, 379}\n",
      "Kenya {354, 293, 231, 363, 301, 433, 310, 313, 381, 382}\n",
      "Tanzania {290, 291, 325, 326, 293, 555, 301, 240, 305, 242, 339, 244, 245, 246, 306, 304, 561}\n",
      "Rwanda {235, 555, 301, 238, 237, 525, 559, 242, 244, 502}\n",
      "Sudan {256, 257, 262, 265, 266, 268, 530, 539, 294, 296, 553, 426, 298, 300, 301, 302, 303, 48, 433, 50, 307, 181, 443, 317, 453, 457, 75, 340, 350, 222, 224, 354, 228, 229, 363, 366, 247, 249, 250, 380, 254, 255}\n",
      "Saudi Arabia {133, 137, 266, 139, 268, 143, 150, 534, 536, 28, 545, 546, 423, 39, 551, 553, 556, 301, 433, 50, 436, 571, 317, 67, 196, 199, 72, 201, 74, 331, 75, 222, 354, 228, 485, 505, 507, 380}\n",
      "Afghanistan {129, 520, 146, 150, 536, 28, 548, 166, 301, 433, 185, 443, 195, 196, 454, 199, 201, 74, 75, 212, 470, 348, 350, 480, 485, 116, 118, 127}\n",
      "Pakistan {515, 132, 133, 134, 135, 136, 137, 516, 139, 141, 143, 146, 147, 150, 536, 154, 155, 28, 159, 34, 35, 548, 165, 166, 553, 556, 301, 433, 434, 50, 436, 185, 63, 64, 449, 199, 200, 75, 209, 470, 477, 351, 479, 354, 482, 485, 108}\n",
      "Uganda {325, 231, 235, 236, 237, 559, 339, 340}\n",
      "Angola {325, 358, 234, 235, 273}\n",
      "Guinea {321, 322, 424, 492, 370, 345}\n",
      "Liberia {367, 368, 369, 370, 275, 344, 345}\n",
      "Djibouti {354, 382}\n",
      "Eritrea {439, 354, 363, 332, 381, 309, 342, 343, 281, 279, 317, 382}\n",
      "Libya {257, 514, 259, 264, 267, 530, 280, 153, 410, 409, 543, 163, 293, 167, 552, 297, 426, 46, 47, 50, 309, 443, 572, 317, 319, 323, 453, 75, 333, 334, 335, 79, 78, 344, 375, 354, 102, 487, 123, 116, 501, 118, 247, 253, 251, 252, 381, 254}\n",
      "Iran {132, 138, 139, 140, 142, 144, 163, 552, 47, 433, 49, 50, 181, 185, 317, 72, 73, 74, 206, 341, 348, 350, 354, 101, 102, 103, 123, 381}\n",
      "Egypt {354, 228, 553, 75, 78, 46, 49, 50, 276, 279, 505, 250, 507, 317}\n",
      "Syria {518, 544, 163, 556, 174, 46, 48, 47, 49, 50, 571, 317, 72, 73, 75, 206, 78, 84, 470, 354, 228, 102, 503}\n",
      "Lebanon {354, 163, 73, 75, 174, 206, 48, 46, 47, 50, 153, 123}\n",
      "Yemen {439, 354, 201, 75, 381, 50, 436, 342, 343, 317}\n",
      "Kuwait {545, 354, 72, 553, 556, 50, 506, 571}\n",
      "United Arab Emirates {545, 354, 546, 133, 553, 556, 143, 50, 436, 117, 150, 507, 505, 571, 509, 127}\n",
      "United Kingdom {5, 268, 13, 144, 531, 148, 150, 284, 160, 545, 546, 39, 553, 298, 174, 304, 433, 305, 50, 181, 310, 314, 317, 63, 193, 194, 72, 201, 75, 84, 349, 350, 101, 102, 231, 108, 376, 506, 509, 127}\n",
      "France {268, 274, 148, 153, 281, 160, 544, 546, 553, 174, 175, 433, 50, 72, 457, 340, 341, 342, 343, 349, 350, 353, 487, 365, 370, 506, 375, 250, 251, 124}\n",
      "Germany {544, 546, 201, 74, 13, 174, 15, 175, 433, 205, 434, 340, 149, 50, 349}\n",
      "Netherlands {546, 163, 424, 10, 174, 433, 340, 55}\n",
      "Belgium {163, 174, 207, 433, 339, 217, 350}\n",
      "Spain {482, 74, 433, 340, 351}\n",
      "Italy {487, 264, 174, 48, 433, 50, 506, 375, 314, 350}\n",
      "Turkey {544, 545, 101, 102, 75, 556, 142, 207, 48, 433, 110, 50, 148, 182, 571, 506, 187}\n",
      "Qatar {545, 546, 553, 75, 556, 433, 50, 436, 534, 506, 571, 381}\n",
      "Somalia {448, 363, 331, 459, 308, 443, 446}\n",
      "Burundi {466}\n",
      "Iraq {480, 163, 5, 78, 110, 80, 48, 46, 83, 148, 149, 470, 151, 566, 543}\n",
      "Soviet Union/Russia {513, 2, 5, 6, 144, 273, 407, 415, 544, 419, 547, 173, 46, 48, 304, 178, 182, 183, 184, 187, 62, 325, 75, 78, 85, 218, 125, 510, 511}\n",
      "Cuba {417, 418, 419, 325, 422, 392, 394, 409, 395, 396, 403, 407, 408, 153, 218, 412, 413, 415}\n",
      "Mozambique {290, 293, 325, 305, 306}\n",
      "Zambia {325, 304, 273, 306, 305}\n",
      "Zimbabwe {317, 325, 246}\n",
      "Botswana {304, 305, 325}\n",
      "Bangladesh {515, 516, 145, 146, 147, 536, 154, 155, 28, 158, 36, 166, 441, 64, 450, 203, 209, 477, 479}\n",
      "Norway {74, 363, 167}\n",
      "Jordan {545, 546, 553, 74, 75, 46, 110, 48, 50}\n",
      "United States of America {129, 2, 133, 134, 391, 7, 139, 395, 15, 399, 143, 17, 148, 21, 150, 279, 149, 281, 159, 160, 417, 544, 545, 546, 423, 167, 425, 426, 553, 49, 50, 310, 439, 54, 59, 60, 190, 193, 321, 322, 194, 196, 197, 201, 75, 340, 87, 216, 227, 101, 231, 487, 113, 506, 379, 375, 378, 123, 127}\n",
      "Congo {353, 340, 231}\n",
      "Ethiopia {256, 231, 342, 343, 312, 316, 279, 311}\n",
      "Israel {100, 101, 196, 423, 359, 231, 39, 82, 274, 84, 149, 150, 278, 281, 127}\n",
      "Mali {482, 355, 75, 336, 370, 436, 501, 532, 443, 351}\n",
      "Senegal {482, 258, 351}\n",
      "Sweden {293, 167, 107, 12, 13, 14, 304, 305, 306, 149, 317, 127}\n",
      "Croatia {201, 124, 189}\n",
      "German Federal Republic {200, 13, 47, 15, 222}\n",
      "Switzerland {129, 353, 423, 72, 16, 376, 350, 127}\n",
      "India {160, 129, 162, 99, 98, 161, 196, 454, 479, 28, 434, 54, 121, 31, 509, 126, 127}\n",
      "Singapore {160, 167, 168, 59, 60}\n",
      "Solomon Islands {168}\n",
      "South Africa {194, 484, 359, 430, 310, 378, 379}\n",
      "Venezuela {416, 423, 407, 408, 410}\n",
      "Argentina {386, 423}\n",
      "Taiwan {60, 94, 423}\n",
      "South Korea {423}\n",
      "Guatemala {389, 423}\n",
      "Honduras {391, 389, 422, 423}\n",
      "Panama {407, 415, 422, 423}\n",
      "China {133, 519, 9, 10, 17, 23, 154, 36, 166, 48, 434, 435, 57, 62, 63, 64, 65, 204, 85, 216, 218, 483, 484, 111, 113, 378, 125}\n",
      "Myanmar {160, 64, 65, 515, 36, 516, 166, 519, 203, 108, 434, 147, 154, 155, 156, 477, 158, 479}\n",
      "Nepal {34, 35, 36, 203, 54}\n",
      "Chad {365, 366, 530, 281, 443, 284, 445}\n",
      "Cambodia {160, 57, 166}\n",
      "Laos {57}\n",
      "Central African Republic {265, 260, 430, 300}\n",
      "Greece {163, 61, 174, 175}\n",
      "Yugoslavia/Serbia {3}\n",
      "Bulgaria {3}\n",
      "Mexico {417, 392, 394, 395, 396, 398, 403}\n",
      "Nicaragua {417, 418, 419, 392, 394, 395, 396, 409, 415}\n",
      "Bolivia {408, 412, 413, 414, 415}\n",
      "Ecuador {415, 410, 407}\n",
      "Algeria {323, 487, 75, 333, 46, 370, 247, 504, 153, 443, 375}\n",
      "Vietnam {160, 418, 493, 112, 85, 407, 62}\n",
      "Tunisia {48, 504, 75, 216}\n",
      "Canada {160, 194, 426, 340, 310, 350, 159}\n",
      "North Korea {160, 552, 340}\n",
      "Nigeria {256, 258, 355, 75, 530}\n",
      "Portugal {352, 274, 379, 310}\n",
      "Morocco {486, 553, 75, 216, 377}\n",
      "Dominican Republic {429, 389}\n",
      "Uzbekistan {186, 547, 454, 142}\n",
      "Czech Republic {207}\n",
      "Georgia {571, 556, 207}\n",
      "Australia {160, 130, 167, 59, 60}\n",
      "Costa Rica {422}\n",
      "Denmark {546, 167}\n",
      "Malaysia {160, 167, 553, 205, 50, 115, 116, 28}\n",
      "Tajikistan {144, 485}\n",
      "Japan {17, 18, 4}\n",
      "Philippines {75, 60}\n",
      "Mauritania {501, 443, 341}\n",
      "Niger {504, 530, 258, 443}\n",
      "Cameroon {443}\n",
      "Turkmenistan {142}\n",
      "Ukraine {160, 281, 344}\n",
      "Indonesia {160, 50, 104}\n",
      "Ivory Coast {321, 322, 274, 379, 319}\n",
      "Sierra Leone {321, 367, 368, 369, 370, 275, 319}\n",
      "Guinea-Bissau {341}\n",
      "Gambia {341}\n",
      "Burkina Faso {367, 368, 369, 370, 344, 573, 319}\n",
      "Colombia {123, 414, 415}\n",
      "Chile {415}\n",
      "El Salvador {395, 415}\n",
      "Yemen People's Republic {40, 125, 46}\n",
      "Bhutan {515, 203, 166}\n",
      "Jamaica {430}\n",
      "Ireland {123, 124}\n",
      "Estonia {123}\n",
      "Bahrain {553, 546, 123}\n",
      "Azerbaijan {571, 556, 149}\n",
      "Armenia {178, 163}\n",
      "Sri Lanka {34}\n",
      "Slovakia {124}\n",
      "Austria {72}\n",
      "Albania {201, 197}\n",
      "Bosnia and Herzegovina {201}\n",
      "Benin {366}\n",
      "Namibia {379}\n",
      "German Democratic Republic {50}\n",
      "Yemen Arab Republic {50}\n",
      "South Sudan {540}\n",
      "Kazakhstan {571, 556}\n"
     ]
    }
   ],
   "source": [
    "for support_country in df['StateSupporter'].unique():\n",
    "    nags = df[df['StateSupporter']==support_country]['NAGcode_1'].tolist()\n",
    "    print(support_country, set(nags))"
   ]
  },
  {
   "cell_type": "code",
   "execution_count": 12,
   "metadata": {},
   "outputs": [
    {
     "name": "stdout",
     "output_type": "stream",
     "text": [
      "{'no_ideology': 2, 'leftist': 2, 'ethno_nationalist': 7, 'other': 1}\n",
      "{}\n",
      "{'religious': 2, 'no_ideology': 3, 'other': 1, 'ethno_nationalist': 1}\n",
      "{'ethno_nationalist': 1}\n",
      "{'ethno_nationalist': 3, 'leftist': 1, 'no_ideology': 2}\n",
      "{'ethno_nationalist': 6, 'no_ideology': 2}\n",
      "{'religious': 10, 'no_ideology': 12, 'other': 1, 'leftist': 3, 'ethno_nationalist': 6}\n",
      "{'religious': 15, 'ethno_nationalist': 5, 'no_ideology': 3, 'other': 1, 'leftist': 1}\n",
      "{'religious': 8, 'ethno_nationalist': 3, 'other': 1}\n",
      "{'religious': 16, 'ethno_nationalist': 12, 'no_ideology': 2, 'leftist': 6, 'other': 1}\n",
      "{'ethno_nationalist': 7}\n",
      "{'ethno_nationalist': 4, 'leftist': 1}\n",
      "{'no_ideology': 2, 'ethno_nationalist': 1, 'religious': 1}\n",
      "{'no_ideology': 4}\n",
      "{}\n",
      "{'religious': 5, 'ethno_nationalist': 3, 'no_ideology': 2}\n",
      "{'religious': 8, 'ethno_nationalist': 15, 'no_ideology': 13, 'leftist': 6}\n",
      "{'religious': 15, 'no_ideology': 3, 'ethno_nationalist': 9, 'leftist': 1, 'other': 1}\n",
      "{'religious': 1, 'no_ideology': 4, 'leftist': 2, 'ethno_nationalist': 4}\n",
      "{'religious': 7, 'leftist': 7, 'ethno_nationalist': 11}\n",
      "{'leftist': 1, 'ethno_nationalist': 3, 'religious': 3}\n",
      "{'religious': 6, 'no_ideology': 3, 'ethno_nationalist': 2}\n",
      "{'religious': 2, 'no_ideology': 2}\n",
      "{'religious': 6, 'no_ideology': 2, 'ethno_nationalist': 1}\n",
      "{'ethno_nationalist': 4, 'leftist': 4, 'religious': 2, 'no_ideology': 5, 'other': 1}\n",
      "{'no_ideology': 6, 'ethno_nationalist': 3, 'religious': 2, 'leftist': 1, 'other': 1}\n",
      "{'leftist': 2, 'ethno_nationalist': 1}\n",
      "{'leftist': 1}\n",
      "{}\n",
      "{}\n",
      "{'no_ideology': 2}\n",
      "{'religious': 2, 'ethno_nationalist': 1, 'no_ideology': 1}\n",
      "{'religious': 6, 'ethno_nationalist': 1, 'no_ideology': 2}\n",
      "{'ethno_nationalist': 3}\n",
      "{}\n",
      "{'ethno_nationalist': 6, 'leftist': 4, 'religious': 1}\n",
      "{'ethno_nationalist': 15, 'leftist': 11, 'no_ideology': 3}\n",
      "{'ethno_nationalist': 8, 'leftist': 16}\n",
      "{'ethno_nationalist': 3, 'no_ideology': 1, 'leftist': 2}\n",
      "{'leftist': 2, 'ethno_nationalist': 3}\n",
      "{'religious': 1}\n",
      "{'leftist': 1, 'ethno_nationalist': 2}\n",
      "{'ethno_nationalist': 2, 'religious': 1, 'leftist': 1}\n",
      "{'ethno_nationalist': 1}\n",
      "{'leftist': 2, 'ethno_nationalist': 2, 'religious': 1, 'no_ideology': 1}\n",
      "{'ethno_nationalist': 12, 'other': 5, 'no_ideology': 10, 'leftist': 4, 'religious': 6}\n",
      "{'ethno_nationalist': 1, 'no_ideology': 2}\n",
      "{'ethno_nationalist': 2, 'no_ideology': 2, 'other': 1}\n",
      "{'ethno_nationalist': 8, 'other': 1, 'religious': 3, 'no_ideology': 3, 'leftist': 1}\n",
      "{'ethno_nationalist': 1, 'religious': 2}\n",
      "{'no_ideology': 1}\n",
      "{'ethno_nationalist': 5, 'leftist': 3}\n",
      "{'no_ideology': 1}\n",
      "{}\n",
      "{'ethno_nationalist': 2}\n",
      "{'ethno_nationalist': 8, 'leftist': 2, 'religious': 1}\n",
      "{}\n",
      "{'ethno_nationalist': 1}\n",
      "{'ethno_nationalist': 2, 'no_ideology': 3, 'other': 1}\n",
      "{'other': 1, 'leftist': 1}\n",
      "{'other': 1}\n",
      "{'other': 1, 'no_ideology': 1}\n",
      "{'other': 1}\n",
      "{'other': 1}\n",
      "{'other': 2}\n",
      "{'leftist': 1}\n",
      "{'ethno_nationalist': 10, 'leftist': 10, 'no_ideology': 3, 'religious': 2}\n",
      "{'leftist': 1}\n",
      "{}\n",
      "{'no_ideology': 3, 'ethno_nationalist': 1}\n",
      "{'leftist': 1, 'ethno_nationalist': 1}\n",
      "{'leftist': 1, 'ethno_nationalist': 1}\n",
      "{'no_ideology': 1}\n",
      "{'ethno_nationalist': 2, 'leftist': 1}\n",
      "{'leftist': 1}\n",
      "{'leftist': 1}\n",
      "{'leftist': 6, 'ethno_nationalist': 4}\n",
      "{'leftist': 9, 'ethno_nationalist': 5}\n",
      "{}\n",
      "{}\n",
      "{'leftist': 1, 'ethno_nationalist': 3}\n",
      "{'leftist': 3, 'no_ideology': 1, 'ethno_nationalist': 1}\n",
      "{'leftist': 1, 'ethno_nationalist': 2, 'no_ideology': 1}\n",
      "{}\n",
      "{'ethno_nationalist': 2, 'religious': 1}\n",
      "{}\n",
      "{'ethno_nationalist': 1, 'other': 1}\n",
      "{'ethno_nationalist': 2, 'no_ideology': 2}\n",
      "{}\n",
      "{'no_ideology': 1, 'ethno_nationalist': 1}\n",
      "{}\n",
      "{}\n",
      "{'no_ideology': 2}\n",
      "{'leftist': 1}\n",
      "{'ethno_nationalist': 1, 'other': 1}\n",
      "{'religious': 2, 'ethno_nationalist': 1, 'no_ideology': 1}\n",
      "{'no_ideology': 1}\n",
      "{'ethno_nationalist': 1}\n",
      "{}\n",
      "{'ethno_nationalist': 1}\n",
      "{'no_ideology': 2}\n",
      "{}\n",
      "{}\n",
      "{}\n",
      "{'ethno_nationalist': 1}\n",
      "{'no_ideology': 3, 'ethno_nationalist': 1, 'other': 1}\n",
      "{'no_ideology': 2}\n",
      "{'ethno_nationalist': 1}\n",
      "{'ethno_nationalist': 1}\n",
      "{'no_ideology': 5, 'ethno_nationalist': 1, 'religious': 1}\n",
      "{}\n",
      "{}\n",
      "{}\n",
      "{'leftist': 2}\n",
      "{'ethno_nationalist': 1}\n",
      "{'no_ideology': 1}\n",
      "{}\n",
      "{}\n",
      "{'no_ideology': 1}\n",
      "{}\n",
      "{'leftist': 1, 'ethno_nationalist': 2}\n",
      "{}\n",
      "{}\n",
      "{}\n",
      "{'ethno_nationalist': 2}\n",
      "{}\n",
      "{}\n",
      "{'other': 1}\n",
      "{}\n",
      "{'ethno_nationalist': 1, 'religious': 1}\n",
      "{}\n",
      "{}\n"
     ]
    }
   ],
   "source": [
    "from collections import Counter\n",
    "\n",
    "def get_most_predominant_ideology(ideo_list, num_of_nags_supported):\n",
    "    ideo_dict = dict(Counter(ideo_list))\n",
    "    print(ideo_dict)\n",
    "    sorted_ideo_dict = sorted(ideo_dict, key=ideo_dict.get, reverse=True)\n",
    "    try:\n",
    "        predominant_ideology = sorted_ideo_dict[0]\n",
    "        num_score = ideo_dict.get(predominant_ideology)\n",
    "        denum_score = num_of_nags_supported\n",
    "        score = num_score/ float(denum_score)\n",
    "    except:\n",
    "        predominant_ideology = None\n",
    "        score = np.nan\n",
    "#     print(sorted_ideo_dict)\n",
    "#     print(predominant_ideology, num_score, denum_score)\n",
    "    return predominant_ideology, score\n",
    "\n",
    "def get_ideology_homophily_score(ideo_list, num_of_nags_supported):\n",
    "    ideo_dict = dict(Counter(ideo_list))\n",
    "    \n",
    "\n",
    "\n",
    "support_score ={}\n",
    "for sup_code in sup_obj.get_supporter_codes():\n",
    "    ideo_list = []\n",
    "    nag_list = sup_obj.get_nags_from_support(sup_code)\n",
    "    for nag_code in nag_list:\n",
    "        nag_ideologies = ideo_obj.get_ideology(nag_code)\n",
    "#         print(nag_code, nag_ideologies)\n",
    "        ideo_list.extend(nag_ideologies)\n",
    "    predominant_ideo, score = get_most_predominant_ideology(ideo_list, len(nag_list))\n",
    "#     print(score)\n",
    "    support_score[sup_code] = score"
   ]
  },
  {
   "cell_type": "code",
   "execution_count": 13,
   "metadata": {},
   "outputs": [
    {
     "data": {
      "text/plain": [
       "{800.0: 0.5833333333333334,\n",
       " nan: nan,\n",
       " 490.0: 0.42857142857142855,\n",
       " 501.0: 1.0,\n",
       " 510.0: 0.5,\n",
       " 517.0: 0.75,\n",
       " 625.0: 0.41379310344827586,\n",
       " 670.0: 0.7142857142857143,\n",
       " 700.0: 0.7272727272727273,\n",
       " 770.0: 0.5161290322580645,\n",
       " 500.0: 1.0,\n",
       " 540.0: 1.0,\n",
       " 438.0: 0.6666666666666666,\n",
       " 450.0: 1.0,\n",
       " 522.0: nan,\n",
       " 531.0: 0.5,\n",
       " 620.0: 0.4411764705882353,\n",
       " 630.0: 0.6,\n",
       " 651.0: 0.4444444444444444,\n",
       " 652.0: 0.6470588235294118,\n",
       " 660.0: 0.75,\n",
       " 679.0: 0.75,\n",
       " 690.0: 0.5,\n",
       " 696.0: 0.6666666666666666,\n",
       " 200.0: 0.35714285714285715,\n",
       " 220.0: 0.5454545454545454,\n",
       " 255.0: 1.0,\n",
       " 210.0: 1.0,\n",
       " 211.0: nan,\n",
       " 230.0: nan,\n",
       " 325.0: 1.0,\n",
       " 640.0: 0.5,\n",
       " 694.0: 0.75,\n",
       " 520.0: 1.0,\n",
       " 516.0: nan,\n",
       " 645.0: 0.75,\n",
       " 365.0: 0.625,\n",
       " 40.0: 0.8888888888888888,\n",
       " 541.0: 0.75,\n",
       " 551.0: 1.0,\n",
       " 552.0: 1.0,\n",
       " 571.0: 1.0,\n",
       " 771.0: 0.6666666666666666,\n",
       " 385.0: 1.0,\n",
       " 663.0: 0.5,\n",
       " 2.0: 0.34285714285714286,\n",
       " 484.0: 0.6666666666666666,\n",
       " 530.0: 0.4,\n",
       " 666.0: 0.5714285714285714,\n",
       " 432.0: 1.0,\n",
       " 433.0: 1.0,\n",
       " 380.0: 1.0,\n",
       " 344.0: 1.0,\n",
       " 260.0: nan,\n",
       " 225.0: 1.0,\n",
       " 750.0: 0.7272727272727273,\n",
       " 830.0: nan,\n",
       " 940.0: 1.0,\n",
       " 560.0: 0.5,\n",
       " 101.0: 0.5,\n",
       " 160.0: 1.0,\n",
       " 713.0: 0.5,\n",
       " 732.0: 1.0,\n",
       " 90.0: 1.0,\n",
       " 91.0: 1.0,\n",
       " 95.0: 1.0,\n",
       " 710.0: 0.47619047619047616,\n",
       " 775.0: 1.0,\n",
       " 790.0: nan,\n",
       " 483.0: 0.75,\n",
       " 811.0: 1.0,\n",
       " 812.0: 1.0,\n",
       " 482.0: 1.0,\n",
       " 350.0: 1.0,\n",
       " 345.0: 1.0,\n",
       " 355.0: 1.0,\n",
       " 70.0: 1.0,\n",
       " 93.0: 1.0,\n",
       " 145.0: nan,\n",
       " 130.0: nan,\n",
       " 615.0: 1.0,\n",
       " 816.0: 0.75,\n",
       " 616.0: 0.6666666666666666,\n",
       " 20.0: nan,\n",
       " 731.0: 1.0,\n",
       " 475.0: nan,\n",
       " 235.0: 0.5,\n",
       " 600.0: 0.5,\n",
       " 42.0: nan,\n",
       " 704.0: 0.5,\n",
       " 316.0: nan,\n",
       " 372.0: nan,\n",
       " 900.0: 1.0,\n",
       " 94.0: 1.0,\n",
       " 390.0: 0.5,\n",
       " 820.0: 0.6666666666666666,\n",
       " 702.0: 1.0,\n",
       " 740.0: 1.0,\n",
       " 840.0: nan,\n",
       " 435.0: 1.0,\n",
       " 436.0: 1.0,\n",
       " 471.0: nan,\n",
       " 701.0: nan,\n",
       " 369.0: nan,\n",
       " 850.0: 1.0,\n",
       " 437.0: 0.6,\n",
       " 451.0: 1.0,\n",
       " 404.0: 1.0,\n",
       " 420.0: 1.0,\n",
       " 439.0: 0.8333333333333334,\n",
       " 100.0: nan,\n",
       " 155.0: nan,\n",
       " 92.0: nan,\n",
       " 680.0: 1.0,\n",
       " 760.0: 1.0,\n",
       " 51.0: 1.0,\n",
       " 205.0: nan,\n",
       " 366.0: nan,\n",
       " 692.0: 1.0,\n",
       " 373.0: nan,\n",
       " 371.0: 1.0,\n",
       " 780.0: nan,\n",
       " 317.0: nan,\n",
       " 305.0: nan,\n",
       " 339.0: 1.0,\n",
       " 346.0: nan,\n",
       " 434.0: nan,\n",
       " 565.0: 1.0,\n",
       " 265.0: nan,\n",
       " 678.0: 1.0,\n",
       " 626.0: nan,\n",
       " 705.0: nan}"
      ]
     },
     "execution_count": 13,
     "metadata": {},
     "output_type": "execute_result"
    }
   ],
   "source": [
    "support_score"
   ]
  },
  {
   "cell_type": "code",
   "execution_count": 16,
   "metadata": {},
   "outputs": [],
   "source": [
    "import pandas as pd\n",
    "df = pd.DataFrame(columns=['a', 'b', 'c'])"
   ]
  },
  {
   "cell_type": "code",
   "execution_count": 17,
   "metadata": {},
   "outputs": [
    {
     "ename": "TypeError",
     "evalue": "Can only append a dict if ignore_index=True",
     "output_type": "error",
     "traceback": [
      "\u001b[1;31m---------------------------------------------------------------------------\u001b[0m",
      "\u001b[1;31mTypeError\u001b[0m                                 Traceback (most recent call last)",
      "\u001b[1;32m<ipython-input-17-a06fb2e59ba5>\u001b[0m in \u001b[0;36m<module>\u001b[1;34m\u001b[0m\n\u001b[1;32m----> 1\u001b[1;33m \u001b[0mdf\u001b[0m\u001b[1;33m.\u001b[0m\u001b[0mappend\u001b[0m\u001b[1;33m(\u001b[0m\u001b[1;33m{\u001b[0m\u001b[1;34m'a'\u001b[0m\u001b[1;33m:\u001b[0m\u001b[1;36m5\u001b[0m\u001b[1;33m,\u001b[0m \u001b[1;34m'b'\u001b[0m\u001b[1;33m:\u001b[0m\u001b[1;36m6\u001b[0m\u001b[1;33m,\u001b[0m \u001b[1;34m'c'\u001b[0m\u001b[1;33m:\u001b[0m\u001b[1;36m7\u001b[0m\u001b[1;33m}\u001b[0m\u001b[1;33m)\u001b[0m\u001b[1;33m\u001b[0m\u001b[1;33m\u001b[0m\u001b[0m\n\u001b[0m",
      "\u001b[1;32mc:\\users\\administrator\\appdata\\local\\programs\\python\\python37\\lib\\site-packages\\pandas\\core\\frame.py\u001b[0m in \u001b[0;36mappend\u001b[1;34m(self, other, ignore_index, verify_integrity, sort)\u001b[0m\n\u001b[0;32m   7702\u001b[0m             \u001b[1;32mif\u001b[0m \u001b[0misinstance\u001b[0m\u001b[1;33m(\u001b[0m\u001b[0mother\u001b[0m\u001b[1;33m,\u001b[0m \u001b[0mdict\u001b[0m\u001b[1;33m)\u001b[0m\u001b[1;33m:\u001b[0m\u001b[1;33m\u001b[0m\u001b[1;33m\u001b[0m\u001b[0m\n\u001b[0;32m   7703\u001b[0m                 \u001b[1;32mif\u001b[0m \u001b[1;32mnot\u001b[0m \u001b[0mignore_index\u001b[0m\u001b[1;33m:\u001b[0m\u001b[1;33m\u001b[0m\u001b[1;33m\u001b[0m\u001b[0m\n\u001b[1;32m-> 7704\u001b[1;33m                     \u001b[1;32mraise\u001b[0m \u001b[0mTypeError\u001b[0m\u001b[1;33m(\u001b[0m\u001b[1;34m\"Can only append a dict if ignore_index=True\"\u001b[0m\u001b[1;33m)\u001b[0m\u001b[1;33m\u001b[0m\u001b[1;33m\u001b[0m\u001b[0m\n\u001b[0m\u001b[0;32m   7705\u001b[0m                 \u001b[0mother\u001b[0m \u001b[1;33m=\u001b[0m \u001b[0mSeries\u001b[0m\u001b[1;33m(\u001b[0m\u001b[0mother\u001b[0m\u001b[1;33m)\u001b[0m\u001b[1;33m\u001b[0m\u001b[1;33m\u001b[0m\u001b[0m\n\u001b[0;32m   7706\u001b[0m             \u001b[1;32mif\u001b[0m \u001b[0mother\u001b[0m\u001b[1;33m.\u001b[0m\u001b[0mname\u001b[0m \u001b[1;32mis\u001b[0m \u001b[1;32mNone\u001b[0m \u001b[1;32mand\u001b[0m \u001b[1;32mnot\u001b[0m \u001b[0mignore_index\u001b[0m\u001b[1;33m:\u001b[0m\u001b[1;33m\u001b[0m\u001b[1;33m\u001b[0m\u001b[0m\n",
      "\u001b[1;31mTypeError\u001b[0m: Can only append a dict if ignore_index=True"
     ]
    }
   ],
   "source": [
    "df.append({'a':5, 'b':6, 'c':7})"
   ]
  },
  {
   "cell_type": "code",
   "execution_count": 19,
   "metadata": {},
   "outputs": [],
   "source": [
    "df = pd.DataFrame?"
   ]
  },
  {
   "cell_type": "code",
   "execution_count": null,
   "metadata": {},
   "outputs": [],
   "source": [
    "df = pd.DataFrame"
   ]
  },
  {
   "cell_type": "code",
   "execution_count": 20,
   "metadata": {},
   "outputs": [
    {
     "data": {
      "text/plain": [
       "<pandas._libs.properties.AxisProperty at 0x1a7bb44ca08>"
      ]
     },
     "execution_count": 20,
     "metadata": {},
     "output_type": "execute_result"
    }
   ],
   "source": [
    "df.columns"
   ]
  },
  {
   "cell_type": "code",
   "execution_count": 26,
   "metadata": {},
   "outputs": [
    {
     "data": {
      "text/plain": [
       "array([149, 544], dtype=int64)"
      ]
     },
     "execution_count": 26,
     "metadata": {},
     "output_type": "execute_result"
    }
   ],
   "source": [
    "df[(df['SupNum_COW']==255) & (df['statesup']==1)]['NAGcode_1'].unique()"
   ]
  },
  {
   "cell_type": "code",
   "execution_count": 27,
   "metadata": {},
   "outputs": [
    {
     "data": {
      "text/plain": [
       "['leftist', 'ethno_nationalist']"
      ]
     },
     "execution_count": 27,
     "metadata": {},
     "output_type": "execute_result"
    }
   ],
   "source": [
    "ideo_obj.get_ideology(149)"
   ]
  },
  {
   "cell_type": "code",
   "execution_count": 28,
   "metadata": {},
   "outputs": [
    {
     "data": {
      "text/plain": [
       "['leftist']"
      ]
     },
     "execution_count": 28,
     "metadata": {},
     "output_type": "execute_result"
    }
   ],
   "source": [
    "ideo_obj.get_ideology(544)"
   ]
  },
  {
   "cell_type": "code",
   "execution_count": 30,
   "metadata": {},
   "outputs": [
    {
     "data": {
      "text/plain": [
       "Counter({1: 5, 0: 3})"
      ]
     },
     "execution_count": 30,
     "metadata": {},
     "output_type": "execute_result"
    }
   ],
   "source": [
    "Counter([1,0,1,0,1,1,1,0])"
   ]
  },
  {
   "cell_type": "code",
   "execution_count": null,
   "metadata": {},
   "outputs": [],
   "source": []
  }
 ],
 "metadata": {
  "kernelspec": {
   "display_name": "Python 3",
   "language": "python",
   "name": "python3"
  },
  "language_info": {
   "codemirror_mode": {
    "name": "ipython",
    "version": 3
   },
   "file_extension": ".py",
   "mimetype": "text/x-python",
   "name": "python",
   "nbconvert_exporter": "python",
   "pygments_lexer": "ipython3",
   "version": "3.7.9"
  }
 },
 "nbformat": 4,
 "nbformat_minor": 4
}
