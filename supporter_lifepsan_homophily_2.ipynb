{
 "cells": [
  {
   "cell_type": "code",
   "execution_count": 1,
   "metadata": {},
   "outputs": [],
   "source": [
    "from data_reader import DataReader\n",
    "import pickle\n",
    "from supporter_countries import SupportModule\n",
    "from ideology_and_objective import IdeologicalObjectiveModule\n",
    "import numpy as np\n",
    "from ideology_homophily_score import IdeologyHomophillyScore\n",
    "from get_supporter_homophily_from_nag import SupporterHomophillyFromNAG\n",
    "import pandas as pd\n",
    "from get_longevity import LongevityModule"
   ]
  },
  {
   "cell_type": "code",
   "execution_count": 2,
   "metadata": {},
   "outputs": [],
   "source": [
    "with open(\"pickles/long_horizon_list.pickle\", \"rb\") as f:\n",
    "    long_horizon_list = pickle.load(f)\n",
    "    \n",
    "with open(\"pickles/short_horizon_list.pickle\", \"rb\") as f:\n",
    "    short_horizon_list = pickle.load(f)"
   ]
  },
  {
   "cell_type": "code",
   "execution_count": 3,
   "metadata": {},
   "outputs": [
    {
     "name": "stderr",
     "output_type": "stream",
     "text": [
      "c:\\users\\administrator\\appdata\\local\\programs\\python\\python37\\lib\\site-packages\\IPython\\core\\interactiveshell.py:3337: DtypeWarning: Columns (10) have mixed types.Specify dtype option on import or set low_memory=False.\n",
      "  if (await self.run_code(code, result,  async_=asy)):\n"
     ]
    }
   ],
   "source": [
    "df = DataReader().get_pandas_df()"
   ]
  },
  {
   "cell_type": "code",
   "execution_count": 4,
   "metadata": {},
   "outputs": [
    {
     "name": "stderr",
     "output_type": "stream",
     "text": [
      "c:\\users\\administrator\\appdata\\local\\programs\\python\\python37\\lib\\site-packages\\IPython\\core\\interactiveshell.py:3417: DtypeWarning: Columns (10) have mixed types.Specify dtype option on import or set low_memory=False.\n",
      "  exec(code_obj, self.user_global_ns, self.user_ns)\n"
     ]
    }
   ],
   "source": [
    "sup_obj = SupportModule()\n",
    "homo_obj = SupporterHomophillyFromNAG()"
   ]
  },
  {
   "cell_type": "code",
   "execution_count": 16,
   "metadata": {},
   "outputs": [],
   "source": [
    "def get_score(nagcode):\n",
    "    num_lifespan_mean, denum_lifespan_mean = 0, 0\n",
    "    support_list = sup_obj.get_supporter_from_NAGcode(nagcode)\n",
    "    for support_code in support_list:\n",
    "        info = homo_obj.get_lifespan_homophily(support_code)\n",
    "        num_of_nags = info.get(\"num_of_nags\")\n",
    "        sup_duration_mean = info.get(\"sup_duration_mean\")\n",
    "        num_lifespan_mean += sup_duration_mean*num_of_nags\n",
    "        denum_lifespan_mean += num_of_nags\n",
    "    mean_of_means = num_lifespan_mean/denum_lifespan_mean if denum_lifespan_mean != 0 else np.nan\n",
    "    data = {\"NAGcode\": nagcode, \"num_of_supporters\": len(support_list),\n",
    "           \"supporter_duration_mean\": mean_of_means}\n",
    "    return data\n",
    "\n",
    "def get_score_direct(nagcode):\n",
    "    num_lifespan_mean, denum_lifespan_mean = 0, 0\n",
    "    duration_list = []\n",
    "    for support_code in support_list:\n",
    "        duration = sup_obj.get_active_support_duration(nagcode, support_code)\n",
    "        duration_list.append(duration)\n",
    "    data = {\"NAGcode\": nagcode, \"num_of_supporters\": len(support_list),\n",
    "           \"supporter_duration_mean\": np.mean(duration_list),\n",
    "           \"supporter_duration_std\": np.std(duration_list),}\n",
    "    return data\n",
    "\n",
    "columns= [\"NAGcode\", \"num_of_supporters\", \"supporter_duration_mean\"]\n",
    "homophily_df = pd.DataFrame(columns=columns)\n",
    "for nagcode in df['NAGcode_1'].unique():\n",
    "    data = get_score(nagcode)\n",
    "    t_df = pd.DataFrame(data, index=[0])\n",
    "    homophily_df = homophily_df.append(t_df)"
   ]
  },
  {
   "cell_type": "code",
   "execution_count": 18,
   "metadata": {},
   "outputs": [
    {
     "data": {
      "text/html": [
       "<div>\n",
       "<style scoped>\n",
       "    .dataframe tbody tr th:only-of-type {\n",
       "        vertical-align: middle;\n",
       "    }\n",
       "\n",
       "    .dataframe tbody tr th {\n",
       "        vertical-align: top;\n",
       "    }\n",
       "\n",
       "    .dataframe thead th {\n",
       "        text-align: right;\n",
       "    }\n",
       "</style>\n",
       "<table border=\"1\" class=\"dataframe\">\n",
       "  <thead>\n",
       "    <tr style=\"text-align: right;\">\n",
       "      <th></th>\n",
       "      <th>NAGcode</th>\n",
       "      <th>num_of_supporters</th>\n",
       "      <th>supporter_duration_mean</th>\n",
       "    </tr>\n",
       "  </thead>\n",
       "  <tbody>\n",
       "    <tr>\n",
       "      <th>0</th>\n",
       "      <td>26</td>\n",
       "      <td>1</td>\n",
       "      <td>17.250000</td>\n",
       "    </tr>\n",
       "    <tr>\n",
       "      <th>0</th>\n",
       "      <td>301</td>\n",
       "      <td>3</td>\n",
       "      <td>9.508772</td>\n",
       "    </tr>\n",
       "    <tr>\n",
       "      <th>0</th>\n",
       "      <td>235</td>\n",
       "      <td>3</td>\n",
       "      <td>7.157895</td>\n",
       "    </tr>\n",
       "    <tr>\n",
       "      <th>0</th>\n",
       "      <td>345</td>\n",
       "      <td>1</td>\n",
       "      <td>4.750000</td>\n",
       "    </tr>\n",
       "    <tr>\n",
       "      <th>0</th>\n",
       "      <td>354</td>\n",
       "      <td>5</td>\n",
       "      <td>10.867925</td>\n",
       "    </tr>\n",
       "    <tr>\n",
       "      <th>...</th>\n",
       "      <td>...</td>\n",
       "      <td>...</td>\n",
       "      <td>...</td>\n",
       "    </tr>\n",
       "    <tr>\n",
       "      <th>0</th>\n",
       "      <td>510</td>\n",
       "      <td>1</td>\n",
       "      <td>10.958333</td>\n",
       "    </tr>\n",
       "    <tr>\n",
       "      <th>0</th>\n",
       "      <td>513</td>\n",
       "      <td>1</td>\n",
       "      <td>10.958333</td>\n",
       "    </tr>\n",
       "    <tr>\n",
       "      <th>0</th>\n",
       "      <td>552</td>\n",
       "      <td>3</td>\n",
       "      <td>12.295082</td>\n",
       "    </tr>\n",
       "    <tr>\n",
       "      <th>0</th>\n",
       "      <td>553</td>\n",
       "      <td>14</td>\n",
       "      <td>7.726776</td>\n",
       "    </tr>\n",
       "    <tr>\n",
       "      <th>0</th>\n",
       "      <td>539</td>\n",
       "      <td>1</td>\n",
       "      <td>9.413793</td>\n",
       "    </tr>\n",
       "  </tbody>\n",
       "</table>\n",
       "<p>278 rows × 3 columns</p>\n",
       "</div>"
      ],
      "text/plain": [
       "   NAGcode num_of_supporters  supporter_duration_mean\n",
       "0       26                 1                17.250000\n",
       "0      301                 3                 9.508772\n",
       "0      235                 3                 7.157895\n",
       "0      345                 1                 4.750000\n",
       "0      354                 5                10.867925\n",
       "..     ...               ...                      ...\n",
       "0      510                 1                10.958333\n",
       "0      513                 1                10.958333\n",
       "0      552                 3                12.295082\n",
       "0      553                14                 7.726776\n",
       "0      539                 1                 9.413793\n",
       "\n",
       "[278 rows x 3 columns]"
      ]
     },
     "execution_count": 18,
     "metadata": {},
     "output_type": "execute_result"
    }
   ],
   "source": [
    "homophily_df[homophily_df['num_of_supporters']!=0]"
   ]
  },
  {
   "cell_type": "code",
   "execution_count": 19,
   "metadata": {},
   "outputs": [],
   "source": [
    "long_homophily_df = pd.DataFrame(columns=columns)\n",
    "for nagcode in long_horizon_list:\n",
    "    data = get_score(nagcode)\n",
    "    t_df = pd.DataFrame(data, index=[0])\n",
    "    long_homophily_df = long_homophily_df.append(t_df)"
   ]
  },
  {
   "cell_type": "code",
   "execution_count": 40,
   "metadata": {},
   "outputs": [],
   "source": [
    "short_homophily_df = pd.DataFrame(columns=columns)\n",
    "for nagcode in short_horizon_list:\n",
    "    data = get_score(nagcode)\n",
    "    t_df = pd.DataFrame(data, index=[0])\n",
    "    short_homophily_df = short_homophily_df.append(t_df)"
   ]
  },
  {
   "cell_type": "code",
   "execution_count": 38,
   "metadata": {},
   "outputs": [],
   "source": [
    "def get_list(df):\n",
    "    df = df[df['num_of_supporters']!=0]['supporter_duration_mean']\n",
    "    return df.tolist()"
   ]
  },
  {
   "cell_type": "code",
   "execution_count": 39,
   "metadata": {},
   "outputs": [
    {
     "data": {
      "text/plain": [
       "{'whiskers': [<matplotlib.lines.Line2D at 0x2182d2d6688>,\n",
       "  <matplotlib.lines.Line2D at 0x2182d2f6d48>],\n",
       " 'caps': [<matplotlib.lines.Line2D at 0x2182d2f6dc8>,\n",
       "  <matplotlib.lines.Line2D at 0x2182d2f8988>],\n",
       " 'boxes': [<matplotlib.lines.Line2D at 0x2182d2f6588>],\n",
       " 'medians': [<matplotlib.lines.Line2D at 0x2182d2f8b88>],\n",
       " 'fliers': [<matplotlib.lines.Line2D at 0x2182d2fdf08>],\n",
       " 'means': []}"
      ]
     },
     "execution_count": 39,
     "metadata": {},
     "output_type": "execute_result"
    },
    {
     "data": {
      "image/png": "[encoded data removed]",
      "text/plain": [
       "<Figure size 432x288 with 1 Axes>"
      ]
     },
     "metadata": {
      "needs_background": "light"
     },
     "output_type": "display_data"
    }
   ],
   "source": [
    "import matplotlib.pyplot as plt\n",
    "plt.boxplot(get_list(long_homophily_df))"
   ]
  },
  {
   "cell_type": "code",
   "execution_count": 41,
   "metadata": {},
   "outputs": [
    {
     "data": {
      "text/plain": [
       "{'whiskers': [<matplotlib.lines.Line2D at 0x2182d354088>,\n",
       "  <matplotlib.lines.Line2D at 0x2182d374a48>],\n",
       " 'caps': [<matplotlib.lines.Line2D at 0x2182d374ec8>,\n",
       "  <matplotlib.lines.Line2D at 0x2182d374e48>],\n",
       " 'boxes': [<matplotlib.lines.Line2D at 0x2182d374188>],\n",
       " 'medians': [<matplotlib.lines.Line2D at 0x2182d376848>],\n",
       " 'fliers': [<matplotlib.lines.Line2D at 0x2182d376cc8>],\n",
       " 'means': []}"
      ]
     },
     "execution_count": 41,
     "metadata": {},
     "output_type": "execute_result"
    },
    {
     "data": {
      "image/png": "[encoded data removed]",
      "text/plain": [
       "<Figure size 432x288 with 1 Axes>"
      ]
     },
     "metadata": {
      "needs_background": "light"
     },
     "output_type": "display_data"
    }
   ],
   "source": [
    "plt.boxplot(get_list(short_homophily_df))"
   ]
  },
  {
   "cell_type": "code",
   "execution_count": 22,
   "metadata": {},
   "outputs": [],
   "source": [
    "def mean_of_means(df):\n",
    "    num, denum = 0, 0\n",
    "    for index, row in df.iterrows():\n",
    "        s_mean, w = row['supporter_duration_mean'], row['num_of_supporters']\n",
    "        if w != 0:\n",
    "            num += s_mean*w\n",
    "            denum += w\n",
    "    return num/denum"
   ]
  },
  {
   "cell_type": "code",
   "execution_count": 23,
   "metadata": {},
   "outputs": [
    {
     "data": {
      "text/plain": [
       "9.90753587923776"
      ]
     },
     "execution_count": 23,
     "metadata": {},
     "output_type": "execute_result"
    }
   ],
   "source": [
    "mean_of_means(long_homophily_df)"
   ]
  },
  {
   "cell_type": "code",
   "execution_count": 27,
   "metadata": {},
   "outputs": [
    {
     "data": {
      "text/plain": [
       "9.056444940685923"
      ]
     },
     "execution_count": 27,
     "metadata": {},
     "output_type": "execute_result"
    }
   ],
   "source": [
    "mean_of_means(short_homophily_df)"
   ]
  },
  {
   "cell_type": "code",
   "execution_count": 30,
   "metadata": {},
   "outputs": [
    {
     "data": {
      "text/plain": [
       "NAGcode                    243.096154\n",
       "num_of_supporters            1.028846\n",
       "supporter_duration_mean      9.836978\n",
       "dtype: float64"
      ]
     },
     "execution_count": 30,
     "metadata": {},
     "output_type": "execute_result"
    }
   ],
   "source": [
    "# [long_homophily_df['num_of_supporters']!=0]\n",
    "long_homophily_df.mean()"
   ]
  },
  {
   "cell_type": "code",
   "execution_count": 31,
   "metadata": {},
   "outputs": [
    {
     "data": {
      "text/plain": [
       "NAGcode                    304.606707\n",
       "num_of_supporters            1.118902\n",
       "supporter_duration_mean      9.159021\n",
       "dtype: float64"
      ]
     },
     "execution_count": 31,
     "metadata": {},
     "output_type": "execute_result"
    }
   ],
   "source": [
    "# [short_homophily_df['num_of_supporters']!=0]\n",
    "short_homophily_df.mean()"
   ]
  },
  {
   "cell_type": "code",
   "execution_count": 12,
   "metadata": {},
   "outputs": [
    {
     "name": "stdout",
     "output_type": "stream",
     "text": [
      "35151 376\n"
     ]
    },
    {
     "data": {
      "text/plain": [
       "93.48670212765957"
      ]
     },
     "execution_count": 12,
     "metadata": {},
     "output_type": "execute_result"
    }
   ],
   "source": [
    "l = [83, 121, 82, 147, 60]\n",
    "w = [189, 46, 89, 40, 12]\n",
    "num, denum = 0, 0\n",
    "for i, j in zip(l,w):\n",
    "    num += i*j\n",
    "    denum += j\n",
    "print(num, denum)\n",
    "num/denum"
   ]
  },
  {
   "cell_type": "code",
   "execution_count": null,
   "metadata": {},
   "outputs": [],
   "source": []
  }
 ],
 "metadata": {
  "kernelspec": {
   "display_name": "Python 3",
   "language": "python",
   "name": "python3"
  },
  "language_info": {
   "codemirror_mode": {
    "name": "ipython",
    "version": 3
   },
   "file_extension": ".py",
   "mimetype": "text/x-python",
   "name": "python",
   "nbconvert_exporter": "python",
   "pygments_lexer": "ipython3",
   "version": "3.7.9"
  }
 },
 "nbformat": 4,
 "nbformat_minor": 4
}
