{
 "cells": [
  {
   "cell_type": "code",
   "execution_count": 1,
   "metadata": {},
   "outputs": [],
   "source": [
    "from collections import OrderedDict\n",
    "import pickle\n",
    "import numpy as np\n",
    "import operator"
   ]
  },
  {
   "cell_type": "code",
   "execution_count": 2,
   "metadata": {},
   "outputs": [],
   "source": [
    "filters=open('filters.txt','r').readline().strip().split('|')\n",
    "file=\"pipeFormat.csv\"\n",
    "f=open(file,\"r\")\n",
    "headers=f.readline().strip().split('|')\n",
    "f.close()"
   ]
  },
  {
   "cell_type": "code",
   "execution_count": 3,
   "metadata": {},
   "outputs": [],
   "source": [
    "def getIndex(s):\n",
    "    return headers.index(s)\n",
    "\n",
    "def dumpPickle(name,data):\n",
    "    pickle.dump(data,open('pickles/{}.pickle'.format(name),'wb'))\n",
    "    \n",
    "def loadPickle(name):\n",
    "    return pickle.load(open('pickles/{}.pickle'.format(name),'rb'))\n",
    "\n",
    "def getIdLabel(id1,id2,id3):\n",
    "    label=[]\n",
    "    if id1==1:\n",
    "        label.append('Ethno-Nationalist')\n",
    "    if id2==1:\n",
    "        label.append('Religious')\n",
    "    if id3==1:\n",
    "        label.append('Leftist')\n",
    "    return label\n",
    "\n",
    "dumpPickle('ids',getIdLabel(1,1,1))"
   ]
  },
  {
   "cell_type": "code",
   "execution_count": 4,
   "metadata": {},
   "outputs": [],
   "source": [
    "def getDetails():\n",
    "    data={}\n",
    "    file=\"pipeFormat.csv\"\n",
    "    noLabel=['.','']\n",
    "    f=open(file,\"r\")\n",
    "    headers=f.readline().strip().split('|')\n",
    "   \n",
    "    nagid={}\n",
    "    targets={}\n",
    "    yearIndex=getIndex('year')\n",
    "    nagcodeIndex=getIndex('nagcode_1')\n",
    "    nagnameIndex=getIndex('nag_name')\n",
    "    foundyearIndex=getIndex('foundyr')\n",
    "    #activeTrainingIndex=getIndex(filterby)\n",
    "    id1Index,id2Index,id3Index=getIndex('nagid_2'),getIndex('nagid_3'),getIndex('nagid_4')\n",
    "    \n",
    "    for l in f:\n",
    "        row=l.split(\"|\")\n",
    "        year=int(row[yearIndex])\n",
    "        nagcode=int(row[nagcodeIndex])\n",
    "        nagname=row[nagnameIndex]\n",
    "        id1 = int(row[id1Index]) if row[id1Index] not in noLabel else -2\n",
    "        id2 = int(row[id2Index]) if row[id2Index] not in noLabel else -2\n",
    "        id3 = int(row[id3Index]) if row[id3Index] not in noLabel else -2\n",
    "        nagIdLabel=getIdLabel(id1,id2,id3)\n",
    "        if nagcode not in data:\n",
    "            data[nagcode]=nagIdLabel\n",
    "        else:\n",
    "            data[nagcode]=list(set(data[nagcode]).union(nagIdLabel))\n",
    "            \n",
    "    return data"
   ]
  },
  {
   "cell_type": "code",
   "execution_count": 7,
   "metadata": {},
   "outputs": [],
   "source": [
    "data=getDetails()\n",
    "# dead = loadPickle('dead')"
   ]
  },
  {
   "cell_type": "code",
   "execution_count": 8,
   "metadata": {},
   "outputs": [],
   "source": [
    "nagIdData={}\n",
    "for nagcode in data:\n",
    "    keys=data[nagcode]\n",
    "    if len(keys)>0:\n",
    "        for key in keys:\n",
    "            if key not in nagIdData:\n",
    "                nagIdData[key]=[]\n",
    "            nagIdData[key].append(nagcode)"
   ]
  },
  {
   "cell_type": "code",
   "execution_count": 9,
   "metadata": {},
   "outputs": [
    {
     "name": "stdout",
     "output_type": "stream",
     "text": [
      "Ethno-Nationalist 199\n",
      "Leftist 81\n",
      "Religious 65\n"
     ]
    }
   ],
   "source": [
    "for ids in nagIdData:\n",
    "    print(ids,len(nagIdData[ids]))"
   ]
  },
  {
   "cell_type": "code",
   "execution_count": 10,
   "metadata": {},
   "outputs": [
    {
     "name": "stdout",
     "output_type": "stream",
     "text": [
      "Ethno-Nationalist 199 13.804020100502512 13.630691938902599\n",
      "Leftist 81 17.444444444444443 13.776881691290031\n",
      "Religious 65 14.169230769230769 10.856503518124667\n"
     ]
    }
   ],
   "source": [
    "yearLength=pickle.load(open('pickles/archive/yearLength.pickle','rb'))\n",
    "\n",
    "for ids in nagIdData:\n",
    "    \n",
    "    temp=[yearLength[nagcode] for nagcode in nagIdData[ids]]\n",
    "    mean=np.mean(temp)\n",
    "    std=np.std(temp)\n",
    "    print(ids,len(nagIdData[ids]),mean,std)\n",
    "        \n",
    "    dumpPickle(ids,nagIdData[ids])"
   ]
  },
  {
   "cell_type": "code",
   "execution_count": null,
   "metadata": {},
   "outputs": [],
   "source": [
    "nagIdData['Religious']"
   ]
  },
  {
   "cell_type": "code",
   "execution_count": 12,
   "metadata": {},
   "outputs": [
    {
     "data": {
      "text/plain": [
       "(3, 459)"
      ]
     },
     "execution_count": 12,
     "metadata": {},
     "output_type": "execute_result"
    }
   ],
   "source": [
    "len(nagIdData), len(yearLength)"
   ]
  },
  {
   "cell_type": "code",
   "execution_count": null,
   "metadata": {},
   "outputs": [],
   "source": []
  }
 ],
 "metadata": {
  "kernelspec": {
   "display_name": "Python 3",
   "language": "python",
   "name": "python3"
  },
  "language_info": {
   "codemirror_mode": {
    "name": "ipython",
    "version": 3
   },
   "file_extension": ".py",
   "mimetype": "text/x-python",
   "name": "python",
   "nbconvert_exporter": "python",
   "pygments_lexer": "ipython3",
   "version": "3.7.9"
  }
 },
 "nbformat": 4,
 "nbformat_minor": 2
}
