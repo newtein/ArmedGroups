{
 "cells": [
  {
   "cell_type": "code",
   "execution_count": 1,
   "metadata": {},
   "outputs": [],
   "source": [
    "from data_reader import DataReader\n",
    "from battle_related_deaths import BRDModule\n",
    "from first_supporter_year import FirstSupportYear\n",
    "import pandas as pd\n",
    "from get_longevity import LongevityModule"
   ]
  },
  {
   "cell_type": "code",
   "execution_count": 47,
   "metadata": {},
   "outputs": [],
   "source": [
    "import numpy as np\n",
    "import matplotlib.pyplot as plt"
   ]
  },
  {
   "cell_type": "code",
   "execution_count": 3,
   "metadata": {},
   "outputs": [
    {
     "name": "stderr",
     "output_type": "stream",
     "text": [
      "c:\\program files (x86)\\python36-32\\lib\\site-packages\\IPython\\core\\interactiveshell.py:2850: DtypeWarning: Columns (5,14,34,35,80) have mixed types. Specify dtype option on import or set low_memory=False.\n",
      "  if self.run_code(code, result):\n",
      "c:\\program files (x86)\\python36-32\\lib\\site-packages\\IPython\\core\\interactiveshell.py:2910: DtypeWarning: Columns (5,14,34,35,80) have mixed types. Specify dtype option on import or set low_memory=False.\n",
      "  exec(code_obj, self.user_global_ns, self.user_ns)\n"
     ]
    }
   ],
   "source": [
    "data_obj = DataReader()\n",
    "brd_obj = BRDModule()\n",
    "first_support_year_obj = FirstSupportYear()\n",
    "longevity_obj = LongevityModule()"
   ]
  },
  {
   "cell_type": "code",
   "execution_count": 4,
   "metadata": {},
   "outputs": [],
   "source": [
    "df = data_obj.get_pandas_df()"
   ]
  },
  {
   "cell_type": "code",
   "execution_count": 5,
   "metadata": {},
   "outputs": [],
   "source": [
    "df2 = df[df['nag_name'].str.contains('CPI-Maoist')][['nagcode_1', 'nag_name', 'year', 'startdate1', 'startdate2']]"
   ]
  },
  {
   "cell_type": "code",
   "execution_count": 6,
   "metadata": {},
   "outputs": [],
   "source": [
    "df2.to_csv(\"output/CPI-Maoist.csv\", index=False)"
   ]
  },
  {
   "cell_type": "code",
   "execution_count": 7,
   "metadata": {},
   "outputs": [],
   "source": [
    "brd1_year_map, brd2_year_map = {}, {}\n",
    "years_to_brd1_map, years_to_brd2_map = {}, {}\n",
    "for nag_id in df['nagcode_1'].unique().tolist():\n",
    "    _, _, respone= brd_obj.get_years_from_brd1and2(nag_id)\n",
    "    brd1_year, brd2_year = respone['brd1_year'], respone['brd2_year']\n",
    "    years_to_brd1, years_to_brd2 = respone['years_to_brd1'], respone['years_to_brd2']\n",
    "\n",
    "    brd1_year_map[nag_id] = brd1_year\n",
    "    brd2_year_map[nag_id] = brd2_year\n",
    "    years_to_brd1_map[nag_id] = years_to_brd1\n",
    "    years_to_brd2_map[nag_id] = years_to_brd2"
   ]
  },
  {
   "cell_type": "code",
   "execution_count": 8,
   "metadata": {},
   "outputs": [
    {
     "data": {
      "text/html": [
       "<div>\n",
       "<style scoped>\n",
       "    .dataframe tbody tr th:only-of-type {\n",
       "        vertical-align: middle;\n",
       "    }\n",
       "\n",
       "    .dataframe tbody tr th {\n",
       "        vertical-align: top;\n",
       "    }\n",
       "\n",
       "    .dataframe thead th {\n",
       "        text-align: right;\n",
       "    }\n",
       "</style>\n",
       "<table border=\"1\" class=\"dataframe\">\n",
       "  <thead>\n",
       "    <tr style=\"text-align: right;\">\n",
       "      <th></th>\n",
       "      <th>year</th>\n",
       "      <th>supporter</th>\n",
       "      <th>startdate1</th>\n",
       "      <th>startdate2</th>\n",
       "    </tr>\n",
       "  </thead>\n",
       "  <tbody>\n",
       "    <tr>\n",
       "      <th>244</th>\n",
       "      <td>1986.0</td>\n",
       "      <td>NaN</td>\n",
       "      <td>1/27/87</td>\n",
       "      <td>8/29/87</td>\n",
       "    </tr>\n",
       "    <tr>\n",
       "      <th>245</th>\n",
       "      <td>1987.0</td>\n",
       "      <td>NaN</td>\n",
       "      <td>1/27/87</td>\n",
       "      <td>8/29/87</td>\n",
       "    </tr>\n",
       "    <tr>\n",
       "      <th>246</th>\n",
       "      <td>1988.0</td>\n",
       "      <td>NaN</td>\n",
       "      <td>1/27/87</td>\n",
       "      <td>8/29/87</td>\n",
       "    </tr>\n",
       "    <tr>\n",
       "      <th>247</th>\n",
       "      <td>1989.0</td>\n",
       "      <td>NaN</td>\n",
       "      <td>1/27/87</td>\n",
       "      <td>8/29/87</td>\n",
       "    </tr>\n",
       "    <tr>\n",
       "      <th>248</th>\n",
       "      <td>1990.0</td>\n",
       "      <td>NaN</td>\n",
       "      <td>1/27/87</td>\n",
       "      <td>8/29/87</td>\n",
       "    </tr>\n",
       "  </tbody>\n",
       "</table>\n",
       "</div>"
      ],
      "text/plain": [
       "       year supporter startdate1 startdate2\n",
       "244  1986.0       NaN    1/27/87    8/29/87\n",
       "245  1987.0       NaN    1/27/87    8/29/87\n",
       "246  1988.0       NaN    1/27/87    8/29/87\n",
       "247  1989.0       NaN    1/27/87    8/29/87\n",
       "248  1990.0       NaN    1/27/87    8/29/87"
      ]
     },
     "execution_count": 8,
     "metadata": {},
     "output_type": "execute_result"
    }
   ],
   "source": [
    "df[df['nagcode_1']==11][['year', 'supporter', 'startdate1', 'startdate2']]"
   ]
  },
  {
   "cell_type": "code",
   "execution_count": 9,
   "metadata": {},
   "outputs": [],
   "source": [
    "first_support_year_map = {}\n",
    "for nag_id in df['nagcode_1'].unique().tolist():\n",
    "    first_support_year, _= first_support_year_obj.get_first_support_year(nag_id)\n",
    "    first_support_year_map[nag_id] = first_support_year"
   ]
  },
  {
   "cell_type": "code",
   "execution_count": 10,
   "metadata": {},
   "outputs": [],
   "source": [
    "longevity_map = {}\n",
    "for nag_id in df['nagcode_1'].unique().tolist():\n",
    "    lifespan, _, _ = longevity_obj.calculate_longevity(nag_id)\n",
    "    longevity_map[nag_id] = lifespan"
   ]
  },
  {
   "cell_type": "code",
   "execution_count": 11,
   "metadata": {},
   "outputs": [],
   "source": [
    "df['brd1_year'] = df['nagcode_1'].apply(lambda x:brd1_year_map[x])\n",
    "df['brd2_year'] = df['nagcode_1'].apply(lambda x:brd2_year_map[x])\n",
    "df['first_support_year'] = df['nagcode_1'].apply(lambda x:first_support_year_map[x])\n",
    "df['years_to_brd1'] = df['nagcode_1'].apply(lambda x:years_to_brd1_map[x])\n",
    "df['years_to_brd2'] = df['nagcode_1'].apply(lambda x:years_to_brd2_map[x])"
   ]
  },
  {
   "cell_type": "code",
   "execution_count": 12,
   "metadata": {},
   "outputs": [],
   "source": [
    "df['lifespan'] = df['nagcode_1'].apply(lambda x:longevity_map[x])"
   ]
  },
  {
   "cell_type": "code",
   "execution_count": 13,
   "metadata": {},
   "outputs": [
    {
     "data": {
      "text/html": [
       "<div>\n",
       "<style scoped>\n",
       "    .dataframe tbody tr th:only-of-type {\n",
       "        vertical-align: middle;\n",
       "    }\n",
       "\n",
       "    .dataframe tbody tr th {\n",
       "        vertical-align: top;\n",
       "    }\n",
       "\n",
       "    .dataframe thead th {\n",
       "        text-align: right;\n",
       "    }\n",
       "</style>\n",
       "<table border=\"1\" class=\"dataframe\">\n",
       "  <thead>\n",
       "    <tr style=\"text-align: right;\">\n",
       "      <th></th>\n",
       "      <th>year</th>\n",
       "      <th>supporter</th>\n",
       "      <th>startdate1</th>\n",
       "      <th>startdate2</th>\n",
       "      <th>brd1_year</th>\n",
       "      <th>brd2_year</th>\n",
       "      <th>first_support_year</th>\n",
       "    </tr>\n",
       "  </thead>\n",
       "  <tbody>\n",
       "    <tr>\n",
       "      <th>244</th>\n",
       "      <td>1986.0</td>\n",
       "      <td>NaN</td>\n",
       "      <td>1/27/87</td>\n",
       "      <td>8/29/87</td>\n",
       "      <td>1987.0</td>\n",
       "      <td>1987.0</td>\n",
       "      <td>NaN</td>\n",
       "    </tr>\n",
       "    <tr>\n",
       "      <th>245</th>\n",
       "      <td>1987.0</td>\n",
       "      <td>NaN</td>\n",
       "      <td>1/27/87</td>\n",
       "      <td>8/29/87</td>\n",
       "      <td>1987.0</td>\n",
       "      <td>1987.0</td>\n",
       "      <td>NaN</td>\n",
       "    </tr>\n",
       "    <tr>\n",
       "      <th>246</th>\n",
       "      <td>1988.0</td>\n",
       "      <td>NaN</td>\n",
       "      <td>1/27/87</td>\n",
       "      <td>8/29/87</td>\n",
       "      <td>1987.0</td>\n",
       "      <td>1987.0</td>\n",
       "      <td>NaN</td>\n",
       "    </tr>\n",
       "    <tr>\n",
       "      <th>247</th>\n",
       "      <td>1989.0</td>\n",
       "      <td>NaN</td>\n",
       "      <td>1/27/87</td>\n",
       "      <td>8/29/87</td>\n",
       "      <td>1987.0</td>\n",
       "      <td>1987.0</td>\n",
       "      <td>NaN</td>\n",
       "    </tr>\n",
       "    <tr>\n",
       "      <th>248</th>\n",
       "      <td>1990.0</td>\n",
       "      <td>NaN</td>\n",
       "      <td>1/27/87</td>\n",
       "      <td>8/29/87</td>\n",
       "      <td>1987.0</td>\n",
       "      <td>1987.0</td>\n",
       "      <td>NaN</td>\n",
       "    </tr>\n",
       "  </tbody>\n",
       "</table>\n",
       "</div>"
      ],
      "text/plain": [
       "       year supporter startdate1 startdate2  brd1_year  brd2_year  \\\n",
       "244  1986.0       NaN    1/27/87    8/29/87     1987.0     1987.0   \n",
       "245  1987.0       NaN    1/27/87    8/29/87     1987.0     1987.0   \n",
       "246  1988.0       NaN    1/27/87    8/29/87     1987.0     1987.0   \n",
       "247  1989.0       NaN    1/27/87    8/29/87     1987.0     1987.0   \n",
       "248  1990.0       NaN    1/27/87    8/29/87     1987.0     1987.0   \n",
       "\n",
       "     first_support_year  \n",
       "244                 NaN  \n",
       "245                 NaN  \n",
       "246                 NaN  \n",
       "247                 NaN  \n",
       "248                 NaN  "
      ]
     },
     "execution_count": 13,
     "metadata": {},
     "output_type": "execute_result"
    }
   ],
   "source": [
    "df[df['nagcode_1']==11][['year', 'supporter', 'startdate1', 'startdate2', 'brd1_year', 'brd2_year', 'first_support_year']]"
   ]
  },
  {
   "cell_type": "code",
   "execution_count": 14,
   "metadata": {},
   "outputs": [],
   "source": [
    "def brd1_after_first_supportor(x):\n",
    "    if pd.isna(x['first_support_year']):\n",
    "        return 0\n",
    "    elif x['brd1_year'] > x['first_support_year']:\n",
    "        return 1\n",
    "    else:\n",
    "        return 0\n",
    "\n",
    "df['brd1_after_first_supportor'] = df.apply(brd1_after_first_supportor, axis=1)"
   ]
  },
  {
   "cell_type": "code",
   "execution_count": 15,
   "metadata": {},
   "outputs": [],
   "source": [
    "def brd2_after_first_supportor(x):\n",
    "    if pd.isna(x['first_support_year']):\n",
    "        return 0\n",
    "    elif x['brd2_year'] > x['first_support_year']:\n",
    "        return 1\n",
    "    else:\n",
    "        return 0\n",
    "\n",
    "df['brd2_after_first_supportor'] = df.apply(brd2_after_first_supportor, axis=1)"
   ]
  },
  {
   "cell_type": "code",
   "execution_count": 16,
   "metadata": {},
   "outputs": [
    {
     "data": {
      "text/html": [
       "<div>\n",
       "<style scoped>\n",
       "    .dataframe tbody tr th:only-of-type {\n",
       "        vertical-align: middle;\n",
       "    }\n",
       "\n",
       "    .dataframe tbody tr th {\n",
       "        vertical-align: top;\n",
       "    }\n",
       "\n",
       "    .dataframe thead th {\n",
       "        text-align: right;\n",
       "    }\n",
       "</style>\n",
       "<table border=\"1\" class=\"dataframe\">\n",
       "  <thead>\n",
       "    <tr style=\"text-align: right;\">\n",
       "      <th></th>\n",
       "      <th>year</th>\n",
       "      <th>supporter</th>\n",
       "      <th>brd1_year</th>\n",
       "      <th>brd2_year</th>\n",
       "      <th>first_support_year</th>\n",
       "      <th>brd1_after_first_supportor</th>\n",
       "      <th>brd2_after_first_supportor</th>\n",
       "      <th>lifespan</th>\n",
       "    </tr>\n",
       "  </thead>\n",
       "  <tbody>\n",
       "    <tr>\n",
       "      <th>249</th>\n",
       "      <td>1945.0</td>\n",
       "      <td>Sweden</td>\n",
       "      <td>1944.0</td>\n",
       "      <td>1946.0</td>\n",
       "      <td>1945.0</td>\n",
       "      <td>0</td>\n",
       "      <td>1</td>\n",
       "      <td>12.0</td>\n",
       "    </tr>\n",
       "    <tr>\n",
       "      <th>250</th>\n",
       "      <td>1946.0</td>\n",
       "      <td>Sweden</td>\n",
       "      <td>1944.0</td>\n",
       "      <td>1946.0</td>\n",
       "      <td>1945.0</td>\n",
       "      <td>0</td>\n",
       "      <td>1</td>\n",
       "      <td>12.0</td>\n",
       "    </tr>\n",
       "    <tr>\n",
       "      <th>251</th>\n",
       "      <td>1947.0</td>\n",
       "      <td>Sweden</td>\n",
       "      <td>1944.0</td>\n",
       "      <td>1946.0</td>\n",
       "      <td>1945.0</td>\n",
       "      <td>0</td>\n",
       "      <td>1</td>\n",
       "      <td>12.0</td>\n",
       "    </tr>\n",
       "    <tr>\n",
       "      <th>252</th>\n",
       "      <td>1948.0</td>\n",
       "      <td>Sweden</td>\n",
       "      <td>1944.0</td>\n",
       "      <td>1946.0</td>\n",
       "      <td>1945.0</td>\n",
       "      <td>0</td>\n",
       "      <td>1</td>\n",
       "      <td>12.0</td>\n",
       "    </tr>\n",
       "    <tr>\n",
       "      <th>253</th>\n",
       "      <td>1949.0</td>\n",
       "      <td>Sweden</td>\n",
       "      <td>1944.0</td>\n",
       "      <td>1946.0</td>\n",
       "      <td>1945.0</td>\n",
       "      <td>0</td>\n",
       "      <td>1</td>\n",
       "      <td>12.0</td>\n",
       "    </tr>\n",
       "    <tr>\n",
       "      <th>254</th>\n",
       "      <td>1950.0</td>\n",
       "      <td>Sweden</td>\n",
       "      <td>1944.0</td>\n",
       "      <td>1946.0</td>\n",
       "      <td>1945.0</td>\n",
       "      <td>0</td>\n",
       "      <td>1</td>\n",
       "      <td>12.0</td>\n",
       "    </tr>\n",
       "    <tr>\n",
       "      <th>255</th>\n",
       "      <td>1951.0</td>\n",
       "      <td>Sweden</td>\n",
       "      <td>1944.0</td>\n",
       "      <td>1946.0</td>\n",
       "      <td>1945.0</td>\n",
       "      <td>0</td>\n",
       "      <td>1</td>\n",
       "      <td>12.0</td>\n",
       "    </tr>\n",
       "    <tr>\n",
       "      <th>256</th>\n",
       "      <td>1952.0</td>\n",
       "      <td>Sweden</td>\n",
       "      <td>1944.0</td>\n",
       "      <td>1946.0</td>\n",
       "      <td>1945.0</td>\n",
       "      <td>0</td>\n",
       "      <td>1</td>\n",
       "      <td>12.0</td>\n",
       "    </tr>\n",
       "    <tr>\n",
       "      <th>257</th>\n",
       "      <td>1953.0</td>\n",
       "      <td>Sweden</td>\n",
       "      <td>1944.0</td>\n",
       "      <td>1946.0</td>\n",
       "      <td>1945.0</td>\n",
       "      <td>0</td>\n",
       "      <td>1</td>\n",
       "      <td>12.0</td>\n",
       "    </tr>\n",
       "    <tr>\n",
       "      <th>258</th>\n",
       "      <td>1954.0</td>\n",
       "      <td>Sweden</td>\n",
       "      <td>1944.0</td>\n",
       "      <td>1946.0</td>\n",
       "      <td>1945.0</td>\n",
       "      <td>0</td>\n",
       "      <td>1</td>\n",
       "      <td>12.0</td>\n",
       "    </tr>\n",
       "    <tr>\n",
       "      <th>259</th>\n",
       "      <td>1955.0</td>\n",
       "      <td>Sweden</td>\n",
       "      <td>1944.0</td>\n",
       "      <td>1946.0</td>\n",
       "      <td>1945.0</td>\n",
       "      <td>0</td>\n",
       "      <td>1</td>\n",
       "      <td>12.0</td>\n",
       "    </tr>\n",
       "    <tr>\n",
       "      <th>260</th>\n",
       "      <td>1956.0</td>\n",
       "      <td>Sweden</td>\n",
       "      <td>1944.0</td>\n",
       "      <td>1946.0</td>\n",
       "      <td>1945.0</td>\n",
       "      <td>0</td>\n",
       "      <td>1</td>\n",
       "      <td>12.0</td>\n",
       "    </tr>\n",
       "  </tbody>\n",
       "</table>\n",
       "</div>"
      ],
      "text/plain": [
       "       year supporter  brd1_year  brd2_year  first_support_year  \\\n",
       "249  1945.0    Sweden     1944.0     1946.0              1945.0   \n",
       "250  1946.0    Sweden     1944.0     1946.0              1945.0   \n",
       "251  1947.0    Sweden     1944.0     1946.0              1945.0   \n",
       "252  1948.0    Sweden     1944.0     1946.0              1945.0   \n",
       "253  1949.0    Sweden     1944.0     1946.0              1945.0   \n",
       "254  1950.0    Sweden     1944.0     1946.0              1945.0   \n",
       "255  1951.0    Sweden     1944.0     1946.0              1945.0   \n",
       "256  1952.0    Sweden     1944.0     1946.0              1945.0   \n",
       "257  1953.0    Sweden     1944.0     1946.0              1945.0   \n",
       "258  1954.0    Sweden     1944.0     1946.0              1945.0   \n",
       "259  1955.0    Sweden     1944.0     1946.0              1945.0   \n",
       "260  1956.0    Sweden     1944.0     1946.0              1945.0   \n",
       "\n",
       "     brd1_after_first_supportor  brd2_after_first_supportor  lifespan  \n",
       "249                           0                           1      12.0  \n",
       "250                           0                           1      12.0  \n",
       "251                           0                           1      12.0  \n",
       "252                           0                           1      12.0  \n",
       "253                           0                           1      12.0  \n",
       "254                           0                           1      12.0  \n",
       "255                           0                           1      12.0  \n",
       "256                           0                           1      12.0  \n",
       "257                           0                           1      12.0  \n",
       "258                           0                           1      12.0  \n",
       "259                           0                           1      12.0  \n",
       "260                           0                           1      12.0  "
      ]
     },
     "execution_count": 16,
     "metadata": {},
     "output_type": "execute_result"
    }
   ],
   "source": [
    "df[df['nagcode_1']==12][['year', 'supporter', 'brd1_year', 'brd2_year', 'first_support_year', \n",
    "                         'brd1_after_first_supportor', 'brd2_after_first_supportor', 'lifespan']]"
   ]
  },
  {
   "cell_type": "code",
   "execution_count": 29,
   "metadata": {},
   "outputs": [],
   "source": [
    "df_brd1_after_support = df[df['brd1_after_first_supportor'] == 1].drop_duplicates('nagcode_1', keep='first')\n",
    "df_brd1_before_support = df[df['brd1_after_first_supportor'] == 0].drop_duplicates('nagcode_1', keep='first')"
   ]
  },
  {
   "cell_type": "code",
   "execution_count": 30,
   "metadata": {},
   "outputs": [],
   "source": [
    "df_brd2_after_support = df[df['brd2_after_first_supportor'] == 1].drop_duplicates('nagcode_1', keep='first')\n",
    "df_brd2_before_support = df[df['brd2_after_first_supportor'] == 0].drop_duplicates('nagcode_1', keep='first')"
   ]
  },
  {
   "cell_type": "code",
   "execution_count": 33,
   "metadata": {},
   "outputs": [
    {
     "data": {
      "text/plain": [
       "((173, 91), (286, 91))"
      ]
     },
     "execution_count": 33,
     "metadata": {},
     "output_type": "execute_result"
    }
   ],
   "source": [
    "df_brd1_after_support.shape, df_brd1_before_support.shape"
   ]
  },
  {
   "cell_type": "code",
   "execution_count": 35,
   "metadata": {},
   "outputs": [
    {
     "data": {
      "text/plain": [
       "((201, 91), (258, 91))"
      ]
     },
     "execution_count": 35,
     "metadata": {},
     "output_type": "execute_result"
    }
   ],
   "source": [
    "df_brd2_after_support.shape, df_brd2_before_support.shape"
   ]
  },
  {
   "cell_type": "code",
   "execution_count": 31,
   "metadata": {},
   "outputs": [
    {
     "data": {
      "text/plain": [
       "array([[ 1.        ,  0.47681691],\n",
       "       [ 0.47681691,  1.        ]])"
      ]
     },
     "execution_count": 31,
     "metadata": {},
     "output_type": "execute_result"
    }
   ],
   "source": [
    "np.corrcoef(df_brd1_after_support['years_to_brd1'], df_brd1_after_support['lifespan'])"
   ]
  },
  {
   "cell_type": "code",
   "execution_count": 36,
   "metadata": {},
   "outputs": [
    {
     "data": {
      "text/plain": [
       "array([[ 1.        ,  0.40120365],\n",
       "       [ 0.40120365,  1.        ]])"
      ]
     },
     "execution_count": 36,
     "metadata": {},
     "output_type": "execute_result"
    }
   ],
   "source": [
    "temp = df_brd1_before_support['years_to_brd1'].fillna(df_brd1_before_support['years_to_brd1'].median())\n",
    "np.corrcoef(temp, df_brd1_before_support['lifespan'])"
   ]
  },
  {
   "cell_type": "code",
   "execution_count": null,
   "metadata": {},
   "outputs": [],
   "source": []
  },
  {
   "cell_type": "code",
   "execution_count": 37,
   "metadata": {},
   "outputs": [
    {
     "data": {
      "text/plain": [
       "array([[ 1.        ,  0.48976543],\n",
       "       [ 0.48976543,  1.        ]])"
      ]
     },
     "execution_count": 37,
     "metadata": {},
     "output_type": "execute_result"
    }
   ],
   "source": [
    "np.corrcoef(df_brd2_after_support['years_to_brd1'], df_brd2_after_support['lifespan'])"
   ]
  },
  {
   "cell_type": "code",
   "execution_count": 38,
   "metadata": {},
   "outputs": [
    {
     "data": {
      "text/plain": [
       "array([[ 1.        ,  0.45242574],\n",
       "       [ 0.45242574,  1.        ]])"
      ]
     },
     "execution_count": 38,
     "metadata": {},
     "output_type": "execute_result"
    }
   ],
   "source": [
    "temp = df_brd2_before_support['years_to_brd1'].fillna(df_brd2_before_support['years_to_brd1'].median())\n",
    "np.corrcoef(temp, df_brd2_before_support['lifespan'])"
   ]
  },
  {
   "cell_type": "code",
   "execution_count": null,
   "metadata": {},
   "outputs": [],
   "source": []
  },
  {
   "cell_type": "code",
   "execution_count": 40,
   "metadata": {},
   "outputs": [],
   "source": [
    "df2 = df.drop_duplicates('nagcode_1', keep='first')"
   ]
  },
  {
   "cell_type": "code",
   "execution_count": 62,
   "metadata": {},
   "outputs": [
    {
     "data": {
      "image/png": "[encoded data removed]",
      "text/plain": [
       "<matplotlib.figure.Figure at 0x79792b0>"
      ]
     },
     "metadata": {},
     "output_type": "display_data"
    }
   ],
   "source": [
    "plt.close()\n",
    "df2.boxplot(column='lifespan')\n",
    "plt.axhline(y=np.mean(df2['lifespan']), linestyle='--', linewidth=1, color='r', label='Mean Value')\n",
    "plt.ylabel(\"Years\")\n",
    "plt.xticks([1], ['Lifespan'])\n",
    "plt.title('Distribution of lifespan across 459 terrorist organizations')\n",
    "plt.legend(loc='upper right')\n",
    "plt.savefig(\"supplementary_box_plot.png\", dpi=800)\n",
    "plt.show()"
   ]
  },
  {
   "cell_type": "code",
   "execution_count": 63,
   "metadata": {},
   "outputs": [
    {
     "data": {
      "text/plain": [
       "11.525054466230937"
      ]
     },
     "execution_count": 63,
     "metadata": {},
     "output_type": "execute_result"
    }
   ],
   "source": [
    "np.mean(df2['lifespan'])"
   ]
  },
  {
   "cell_type": "code",
   "execution_count": 64,
   "metadata": {},
   "outputs": [
    {
     "data": {
      "text/plain": [
       "7.0"
      ]
     },
     "execution_count": 64,
     "metadata": {},
     "output_type": "execute_result"
    }
   ],
   "source": [
    "np.percentile(df2['lifespan'], 50)"
   ]
  },
  {
   "cell_type": "code",
   "execution_count": 65,
   "metadata": {},
   "outputs": [
    {
     "data": {
      "text/plain": [
       "1.0"
      ]
     },
     "execution_count": 65,
     "metadata": {},
     "output_type": "execute_result"
    }
   ],
   "source": [
    "np.percentile(df2['lifespan'], 10)"
   ]
  },
  {
   "cell_type": "code",
   "execution_count": 66,
   "metadata": {},
   "outputs": [
    {
     "data": {
      "text/plain": [
       "31.0"
      ]
     },
     "execution_count": 66,
     "metadata": {},
     "output_type": "execute_result"
    }
   ],
   "source": [
    "np.percentile(df2['lifespan'], 90)"
   ]
  },
  {
   "cell_type": "code",
   "execution_count": 67,
   "metadata": {},
   "outputs": [
    {
     "data": {
      "text/plain": [
       "2.0"
      ]
     },
     "execution_count": 67,
     "metadata": {},
     "output_type": "execute_result"
    }
   ],
   "source": [
    "np.percentile(df2['lifespan'], 25)"
   ]
  },
  {
   "cell_type": "code",
   "execution_count": 69,
   "metadata": {},
   "outputs": [
    {
     "data": {
      "text/plain": [
       "17.0"
      ]
     },
     "execution_count": 69,
     "metadata": {},
     "output_type": "execute_result"
    }
   ],
   "source": [
    "np.percentile(df2['lifespan'], 75)"
   ]
  },
  {
   "cell_type": "code",
   "execution_count": null,
   "metadata": {},
   "outputs": [],
   "source": []
  }
 ],
 "metadata": {
  "kernelspec": {
   "display_name": "Python 3",
   "language": "python",
   "name": "python3"
  },
  "language_info": {
   "codemirror_mode": {
    "name": "ipython",
    "version": 3
   },
   "file_extension": ".py",
   "mimetype": "text/x-python",
   "name": "python",
   "nbconvert_exporter": "python",
   "pygments_lexer": "ipython3",
   "version": "3.7.9"
  }
 },
 "nbformat": 4,
 "nbformat_minor": 2
}
