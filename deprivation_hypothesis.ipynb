{
 "cells": [
  {
   "cell_type": "code",
   "execution_count": 7,
   "metadata": {},
   "outputs": [],
   "source": [
    "import numpy as np\n",
    "import pandas as pd"
   ]
  },
  {
   "cell_type": "code",
   "execution_count": 2,
   "metadata": {},
   "outputs": [],
   "source": [
    "df = pd.read_csv('output/NAG_DETAILS_v8.csv')"
   ]
  },
  {
   "cell_type": "code",
   "execution_count": 13,
   "metadata": {},
   "outputs": [],
   "source": [
    "deprivation_supports = ['s_safemem_dep_score',\n",
    " 's_safelead_dep_score',\n",
    " 's_headquar_dep_score',\n",
    " 's_traincamp_dep_score',\n",
    " 's_training_dep_score',\n",
    " 's_weaponlog_dep_score',\n",
    " 's_finaid_dep_score',\n",
    " 's_transport_dep_score',\n",
    " 's_troop_dep_score',\n",
    " 'ds_safemem_dep_score',\n",
    " 'ds_safelead_dep_score',\n",
    " 'ds_headquar_dep_score',\n",
    " 'ds_traincamp_dep_score',\n",
    " 'ds_training_dep_score',\n",
    " 'ds_weaponlog_dep_score',\n",
    " 'ds_finaid_dep_score',\n",
    " 'ds_transport_dep_score',\n",
    " 'domsup_dep_score']"
   ]
  },
  {
   "cell_type": "code",
   "execution_count": 15,
   "metadata": {},
   "outputs": [],
   "source": [
    "short_lived = df[df['lifespan']<=1]\n",
    "long_lived = df[df['lifespan']>=31]"
   ]
  },
  {
   "cell_type": "code",
   "execution_count": 27,
   "metadata": {},
   "outputs": [
    {
     "name": "stdout",
     "output_type": "stream",
     "text": [
      "0.9545454545454546 0.20829889522526548 9.38083151964686\n",
      "s_safemem_dep_score 42.98837052040935\n",
      "0.9204545454545454 0.27058820226796954 9.38083151964686\n",
      "s_safelead_dep_score 31.910589375405056\n",
      "0.9886363636363636 0.10599294378510017 9.38083151964686\n",
      "s_headquar_dep_score 87.49857141690944\n",
      "0.9545454545454546 0.20829889522526548 9.38083151964686\n",
      "s_traincamp_dep_score 42.98837052040935\n",
      "0.9431818181818182 0.23149487258481097 9.38083151964686\n",
      "s_training_dep_score 38.22041339389201\n",
      "0.875 0.33071891388307384 9.38083151964686\n",
      "s_weaponlog_dep_score 24.819347291981714\n",
      "0.9659090909090909 0.181462720712174 9.38083151964686\n",
      "s_finaid_dep_score 49.93328882953068\n",
      "0.9772727272727273 0.14903269373413638 9.38083151964686\n",
      "s_transport_dep_score 61.514225996918796\n",
      "0.9318181818181818 0.25205764787294127 9.38083151964686\n",
      "s_troop_dep_score 34.679484809706544\n",
      "0.9318181818181818 0.25205764787294127 9.38083151964686\n",
      "ds_safemem_dep_score 34.679484809706544\n",
      "0.9318181818181818 0.25205764787294127 9.38083151964686\n",
      "ds_safelead_dep_score 34.679484809706544\n",
      "1.0 0.0 9.38083151964686\n",
      "ds_headquar_dep_score inf\n",
      "0.9886363636363636 0.10599294378510017 9.38083151964686\n",
      "ds_traincamp_dep_score 87.49857141690944\n",
      "0.9772727272727273 0.14903269373413636 9.38083151964686\n",
      "ds_training_dep_score 61.51422599691881\n",
      "0.9772727272727273 0.14903269373413636 9.38083151964686\n",
      "ds_weaponlog_dep_score 61.51422599691881\n",
      "0.9772727272727273 0.14903269373413636 9.38083151964686\n",
      "ds_finaid_dep_score 61.51422599691881\n",
      "1.0 0.0 9.38083151964686\n",
      "ds_transport_dep_score inf\n",
      "0.8636363636363636 0.3431742925123068 9.38083151964686\n",
      "domsup_dep_score 23.607908279501032\n"
     ]
    },
    {
     "name": "stderr",
     "output_type": "stream",
     "text": [
      "c:\\users\\administrator\\appdata\\local\\programs\\python\\python37\\lib\\site-packages\\ipykernel_launcher.py:7: RuntimeWarning: divide by zero encountered in double_scalars\n",
      "  import sys\n"
     ]
    }
   ],
   "source": [
    "# short lived\n",
    "for support in deprivation_supports:\n",
    "    s = short_lived[support].tolist()\n",
    "    mean_s = np.mean(s)\n",
    "    std_s = np.std(s)\n",
    "    n = np.sqrt(float(len(s)))\n",
    "    z = (mean_s)/(std_s/n)\n",
    "    print(mean_s, std_s, n)\n",
    "    print(support, z)"
   ]
  },
  {
   "cell_type": "code",
   "execution_count": 28,
   "metadata": {},
   "outputs": [
    {
     "name": "stdout",
     "output_type": "stream",
     "text": [
      "0.6299408708505524 0.42704149605669217 6.855654600401044\n",
      "s_safemem_dep_score -10.112968105221098\n",
      " \n",
      "0.7266383212133636 0.4116164817325991 6.855654600401044\n",
      "s_safelead_dep_score -12.10248270109432\n",
      " \n",
      "0.7724605039976056 0.36682195037927845 6.855654600401044\n",
      "s_headquar_dep_score -14.436765309119968\n",
      " \n",
      "0.7203288651379487 0.37517056806160093 6.855654600401044\n",
      "s_traincamp_dep_score -13.162881948868108\n",
      " \n",
      "0.7918009337908208 0.3545850796598398 6.855654600401044\n",
      "s_training_dep_score -15.308917452342799\n",
      " \n",
      "0.7274734371276361 0.3643847145255283 6.855654600401044\n",
      "s_weaponlog_dep_score -13.68692597988831\n",
      " \n",
      "0.772224097207738 0.3727820205310479 6.855654600401044\n",
      "s_finaid_dep_score -14.201601453366878\n",
      " \n",
      "0.9034401293022297 0.2740730945504748 6.855654600401044\n",
      "s_transport_dep_score -22.59861913405398\n",
      " \n",
      "0.9457358238038066 0.2146031391263454 6.855654600401044\n",
      "s_troop_dep_score -30.212224190287646\n",
      " \n",
      "0.5160205693743799 0.428080932998276 6.855654600401044\n",
      "ds_safemem_dep_score -8.263995234628403\n",
      " \n",
      "0.6343034494816162 0.44496814967089177 6.855654600401044\n",
      "ds_safelead_dep_score -9.7727564651654\n",
      " \n",
      "0.7071022128391421 0.42464687242237503 6.855654600401044\n",
      "ds_headquar_dep_score -11.415717042142038\n",
      " \n",
      "0.6858171946616184 0.42038960364749933 6.855654600401044\n",
      "ds_traincamp_dep_score -11.184210467674896\n",
      " \n",
      "0.9148936170212766 0.2790399372043405 6.855654600401044\n",
      "ds_training_dep_score -22.47776679298902\n",
      " \n",
      "0.8170712058154587 0.35271386714044795 6.855654600401044\n",
      "ds_weaponlog_dep_score -15.881309165464367\n",
      " \n",
      "0.715431750204346 0.43778140930544523 6.855654600401044\n",
      "ds_finaid_dep_score -11.203657499625095\n",
      " \n",
      "0.7805665005527057 0.39078499096096947 6.855654600401044\n",
      "ds_transport_dep_score -13.693704835679252\n",
      " \n",
      "0.6128023338349757 0.46233978273437215 6.855654600401044\n",
      "domsup_dep_score -9.086739441381662\n",
      " \n"
     ]
    }
   ],
   "source": [
    "# long lived\n",
    "for support in deprivation_supports:\n",
    "    s = long_lived[support].tolist()\n",
    "    mean_s = np.mean(s)\n",
    "    std_s = np.std(s)\n",
    "    n = np.sqrt(float(len(s)))\n",
    "    z = (0-mean_s)/(std_s/n)\n",
    "    print(mean_s, std_s, n)\n",
    "    print(support, z)\n",
    "    print(\" \")"
   ]
  },
  {
   "cell_type": "code",
   "execution_count": 10,
   "metadata": {},
   "outputs": [
    {
     "data": {
      "text/plain": [
       "88"
      ]
     },
     "execution_count": 10,
     "metadata": {},
     "output_type": "execute_result"
    }
   ],
   "source": [
    "len(s)"
   ]
  },
  {
   "cell_type": "code",
   "execution_count": null,
   "metadata": {},
   "outputs": [],
   "source": []
  }
 ],
 "metadata": {
  "kernelspec": {
   "display_name": "Python 3",
   "language": "python",
   "name": "python3"
  },
  "language_info": {
   "codemirror_mode": {
    "name": "ipython",
    "version": 3
   },
   "file_extension": ".py",
   "mimetype": "text/x-python",
   "name": "python",
   "nbconvert_exporter": "python",
   "pygments_lexer": "ipython3",
   "version": "3.7.9"
  }
 },
 "nbformat": 4,
 "nbformat_minor": 4
}
